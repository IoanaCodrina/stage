{
 "cells": [
  {
   "cell_type": "code",
   "execution_count": 1,
   "metadata": {
    "collapsed": true
   },
   "outputs": [],
   "source": [
    "import numpy as np\n",
    "import scipy as sp\n",
    "import pandas as pd\n",
    "\n",
    "from scipy import optimize\n",
    "\n",
    "%matplotlib inline \n",
    "import matplotlib.pyplot as plt"
   ]
  },
  {
   "cell_type": "code",
   "execution_count": 2,
   "metadata": {
    "collapsed": true
   },
   "outputs": [],
   "source": [
    "def rndm(a, b, g, size=1):\n",
    "    \"\"\"Power-law gen for pdf(x)\\propto x^{g-1} for a<=x<=b\"\"\"\n",
    "    r = np.random.random(size=size)\n",
    "    ag, bg = a**g, b**g\n",
    "    return (ag + (bg - ag)*r)**(1./g)\n",
    "\n",
    "N= 10000\n",
    "\n",
    "\n",
    "\n",
    "def S_ref(A,B,E):\n",
    "    return (E/A)**(1/B)\n",
    "\n",
    "\n",
    "def S_i(alpha, beta, delta, cos, f):\n",
    "    cos_ref=np.cos(38*np.pi/180.)**2\n",
    "    x = cos-cos_ref\n",
    "    return f*(delta+beta*x+alpha*x**2)\n",
    "\n",
    "def S_i_fit(cos, alpha, beta, f):\n",
    "    cos_ref=np.cos(38*np.pi/180.)**2\n",
    "    x = cos-cos_ref\n",
    "    return f*(alpha*x**2+beta*x+1)\n",
    "\n",
    "\n",
    "def get_random_vars(N):\n",
    "    E0 = 10**15\n",
    "    E1 = 10**18\n",
    "    gamma = -2.5\n",
    "\n",
    "    A = 10**12\n",
    "    B = 1.2\n",
    "    b=0.919\n",
    "    a=-1.13\n",
    "    c=1\n",
    "\n",
    "    E = rndm(E0, E1, gamma, N) \n",
    "    \n",
    "    S_i_ref=S_ref(A,B,E)\n",
    "    cos_2 = np.random.rand(N)\n",
    "    S=S_i(a,b,c,cos_2,S_i_ref)\n",
    "    data=pd.DataFrame()\n",
    "    data['E'] = E\n",
    "    data['S_ref'] = S_i_ref\n",
    "    data['cos2'] = cos_2\n",
    "    data['S'] = S\n",
    "    data['th'] = np.arccos(np.sqrt(data.cos2))\n",
    "    data['lgE'] = np.log10(data.E)\n",
    "    data['lgS'] = np.log10(data.S)\n",
    "    data['lgS_ref'] = np.log10(data.S_ref)\n",
    "    data = data.sort_values(['lgS'])\n",
    "    data['I'] = 0\n",
    "    bins = np.linspace(0, 1, 11, endpoint = True )\n",
    "    ind = np.digitize(data['cos2'],bins)\n",
    "    groups = data.groupby(ind)\n",
    "                      \n",
    "    for name, group in groups:\n",
    "        values = group['lgS'].apply(lambda x: group[group['lgS']>x].count())\n",
    "        data.loc[group.I.index.tolist(), 'I']= values.I \n",
    "        \n",
    "    data['sqrt_I']=np.sqrt(data.I)\n",
    "    return data\n",
    "\n"
   ]
  },
  {
   "cell_type": "code",
   "execution_count": 9,
   "metadata": {
    "scrolled": false
   },
   "outputs": [
    {
     "name": "stderr",
     "output_type": "stream",
     "text": [
      "/home/noemie/anaconda3/lib/python3.6/site-packages/ipykernel_launcher.py:49: RuntimeWarning: invalid value encountered in log10\n"
     ]
    },
    {
     "ename": "KeyError",
     "evalue": "1",
     "output_type": "error",
     "traceback": [
      "\u001b[0;31m---------------------------------------------------------------------------\u001b[0m",
      "\u001b[0;31mKeyError\u001b[0m                                  Traceback (most recent call last)",
      "\u001b[0;32m<ipython-input-9-e5fa4f93fe1a>\u001b[0m in \u001b[0;36m<module>\u001b[0;34m()\u001b[0m\n\u001b[1;32m     10\u001b[0m     \u001b[0mdelta_Scal\u001b[0m \u001b[0;34m=\u001b[0m \u001b[0mdelta_down\u001b[0m\u001b[0;34m.\u001b[0m\u001b[0mS\u001b[0m\u001b[0;34m-\u001b[0m\u001b[0mdelta_up\u001b[0m\u001b[0;34m.\u001b[0m\u001b[0mS\u001b[0m\u001b[0;34m\u001b[0m\u001b[0m\n\u001b[1;32m     11\u001b[0m     \u001b[0;32mfor\u001b[0m \u001b[0mj\u001b[0m \u001b[0;32min\u001b[0m \u001b[0mrange\u001b[0m\u001b[0;34m(\u001b[0m\u001b[0;36m0\u001b[0m\u001b[0;34m,\u001b[0m\u001b[0mm\u001b[0m\u001b[0;34m-\u001b[0m\u001b[0;36m1\u001b[0m\u001b[0;34m)\u001b[0m\u001b[0;34m:\u001b[0m\u001b[0;34m\u001b[0m\u001b[0m\n\u001b[0;32m---> 12\u001b[0;31m         \u001b[0mdelta_val\u001b[0m\u001b[0;34m=\u001b[0m\u001b[0mval\u001b[0m\u001b[0;34m.\u001b[0m\u001b[0mS\u001b[0m\u001b[0;34m[\u001b[0m\u001b[0mj\u001b[0m\u001b[0;34m+\u001b[0m\u001b[0;36m1\u001b[0m\u001b[0;34m]\u001b[0m\u001b[0;34m-\u001b[0m\u001b[0mval\u001b[0m\u001b[0;34m.\u001b[0m\u001b[0mS\u001b[0m\u001b[0;34m[\u001b[0m\u001b[0mj\u001b[0m\u001b[0;34m]\u001b[0m\u001b[0;34m\u001b[0m\u001b[0m\n\u001b[0m\u001b[1;32m     13\u001b[0m     \u001b[0mmydata\u001b[0m\u001b[0;34m.\u001b[0m\u001b[0mdrop\u001b[0m\u001b[0;34m(\u001b[0m\u001b[0mmydata\u001b[0m\u001b[0;34m.\u001b[0m\u001b[0mindex\u001b[0m\u001b[0;34m,\u001b[0m  \u001b[0minplace\u001b[0m\u001b[0;34m=\u001b[0m\u001b[0;32mTrue\u001b[0m\u001b[0;34m)\u001b[0m\u001b[0;34m\u001b[0m\u001b[0m\n\u001b[1;32m     14\u001b[0m     \u001b[0;31m#print(mydata.S.std())\u001b[0m\u001b[0;34m\u001b[0m\u001b[0;34m\u001b[0m\u001b[0m\n",
      "\u001b[0;32m~/anaconda3/lib/python3.6/site-packages/pandas/core/series.py\u001b[0m in \u001b[0;36m__getitem__\u001b[0;34m(self, key)\u001b[0m\n\u001b[1;32m    599\u001b[0m         \u001b[0mkey\u001b[0m \u001b[0;34m=\u001b[0m \u001b[0mcom\u001b[0m\u001b[0;34m.\u001b[0m\u001b[0m_apply_if_callable\u001b[0m\u001b[0;34m(\u001b[0m\u001b[0mkey\u001b[0m\u001b[0;34m,\u001b[0m \u001b[0mself\u001b[0m\u001b[0;34m)\u001b[0m\u001b[0;34m\u001b[0m\u001b[0m\n\u001b[1;32m    600\u001b[0m         \u001b[0;32mtry\u001b[0m\u001b[0;34m:\u001b[0m\u001b[0;34m\u001b[0m\u001b[0m\n\u001b[0;32m--> 601\u001b[0;31m             \u001b[0mresult\u001b[0m \u001b[0;34m=\u001b[0m \u001b[0mself\u001b[0m\u001b[0;34m.\u001b[0m\u001b[0mindex\u001b[0m\u001b[0;34m.\u001b[0m\u001b[0mget_value\u001b[0m\u001b[0;34m(\u001b[0m\u001b[0mself\u001b[0m\u001b[0;34m,\u001b[0m \u001b[0mkey\u001b[0m\u001b[0;34m)\u001b[0m\u001b[0;34m\u001b[0m\u001b[0m\n\u001b[0m\u001b[1;32m    602\u001b[0m \u001b[0;34m\u001b[0m\u001b[0m\n\u001b[1;32m    603\u001b[0m             \u001b[0;32mif\u001b[0m \u001b[0;32mnot\u001b[0m \u001b[0mis_scalar\u001b[0m\u001b[0;34m(\u001b[0m\u001b[0mresult\u001b[0m\u001b[0;34m)\u001b[0m\u001b[0;34m:\u001b[0m\u001b[0;34m\u001b[0m\u001b[0m\n",
      "\u001b[0;32m~/anaconda3/lib/python3.6/site-packages/pandas/core/indexes/base.py\u001b[0m in \u001b[0;36mget_value\u001b[0;34m(self, series, key)\u001b[0m\n\u001b[1;32m   2475\u001b[0m         \u001b[0;32mtry\u001b[0m\u001b[0;34m:\u001b[0m\u001b[0;34m\u001b[0m\u001b[0m\n\u001b[1;32m   2476\u001b[0m             return self._engine.get_value(s, k,\n\u001b[0;32m-> 2477\u001b[0;31m                                           tz=getattr(series.dtype, 'tz', None))\n\u001b[0m\u001b[1;32m   2478\u001b[0m         \u001b[0;32mexcept\u001b[0m \u001b[0mKeyError\u001b[0m \u001b[0;32mas\u001b[0m \u001b[0me1\u001b[0m\u001b[0;34m:\u001b[0m\u001b[0;34m\u001b[0m\u001b[0m\n\u001b[1;32m   2479\u001b[0m             \u001b[0;32mif\u001b[0m \u001b[0mlen\u001b[0m\u001b[0;34m(\u001b[0m\u001b[0mself\u001b[0m\u001b[0;34m)\u001b[0m \u001b[0;34m>\u001b[0m \u001b[0;36m0\u001b[0m \u001b[0;32mand\u001b[0m \u001b[0mself\u001b[0m\u001b[0;34m.\u001b[0m\u001b[0minferred_type\u001b[0m \u001b[0;32min\u001b[0m \u001b[0;34m[\u001b[0m\u001b[0;34m'integer'\u001b[0m\u001b[0;34m,\u001b[0m \u001b[0;34m'boolean'\u001b[0m\u001b[0;34m]\u001b[0m\u001b[0;34m:\u001b[0m\u001b[0;34m\u001b[0m\u001b[0m\n",
      "\u001b[0;32mpandas/_libs/index.pyx\u001b[0m in \u001b[0;36mpandas._libs.index.IndexEngine.get_value\u001b[0;34m()\u001b[0m\n",
      "\u001b[0;32mpandas/_libs/index.pyx\u001b[0m in \u001b[0;36mpandas._libs.index.IndexEngine.get_value\u001b[0;34m()\u001b[0m\n",
      "\u001b[0;32mpandas/_libs/index.pyx\u001b[0m in \u001b[0;36mpandas._libs.index.IndexEngine.get_loc\u001b[0;34m()\u001b[0m\n",
      "\u001b[0;32mpandas/_libs/hashtable_class_helper.pxi\u001b[0m in \u001b[0;36mpandas._libs.hashtable.Int64HashTable.get_item\u001b[0;34m()\u001b[0m\n",
      "\u001b[0;32mpandas/_libs/hashtable_class_helper.pxi\u001b[0m in \u001b[0;36mpandas._libs.hashtable.Int64HashTable.get_item\u001b[0;34m()\u001b[0m\n",
      "\u001b[0;31mKeyError\u001b[0m: 1"
     ]
    }
   ],
   "source": [
    "m=10\n",
    "ref_intensity= 50\n",
    "#data=pd.DataFrame.clear\n",
    "#print(type(data))\n",
    "for i in range(0,m): \n",
    "    mydata = get_random_vars(10000)\n",
    "    val = mydata.loc[mydata.I == ref_intensity]\n",
    "    delta_up = mydata.loc[mydata.I== mydata.I+mydata.sqrt_I]\n",
    "    delta_down = mydata.loc[mydata.I== mydata.I-mydata.sqrt_I]\n",
    "    delta_Scal = delta_down.S-delta_up.S\n",
    "    #delta_Si\n",
    "    for j in range(0,m-1):\n",
    "        delta_val=val.S[j+1]-val.S[j]\n",
    "        \n",
    "    mydata.drop(mydata.index,  inplace=True)\n",
    "    #print(mydata.S.std())\n",
    "    \n",
    "print(type(mydata.index))"
   ]
  },
  {
   "cell_type": "code",
   "execution_count": 5,
   "metadata": {},
   "outputs": [
    {
     "name": "stdout",
     "output_type": "stream",
     "text": [
      "                 E         S_ref      cos2            S        th        lgE  \\\n",
      "418   6.469695e+16  10211.036429  0.038797   837.486209  1.372530  16.810884   \n",
      "2552  1.880076e+16   3645.967987  0.162698  1245.285046  1.155612  16.274175   \n",
      "6563  1.198436e+16   2505.218807  0.295303  1455.231579  0.996293  16.078615   \n",
      "3544  1.598164e+16   3184.328373  0.405471  2386.630841  0.880499  16.203621   \n",
      "9227  1.202102e+16   2511.603675  0.707985  2690.975698  0.570894  16.079941   \n",
      "7970  2.174188e+16   4115.421068  0.384298  2959.877741  0.902158  16.337297   \n",
      "6574  1.601066e+16   3189.146042  0.609136  3153.984181  0.675377  16.204409   \n",
      "2927  1.786230e+16   3493.663360  0.531548  3175.025449  0.753829  16.251937   \n",
      "4933  1.550397e+16   3104.816056  0.957106  3667.516099  0.208620  16.190443   \n",
      "8099  3.060726e+16   5472.516312  0.874201  6349.542294  0.362574  16.485824   \n",
      "494   1.573256e+15    461.317034  0.001521    -1.315716  1.531782  15.196799   \n",
      "1302  1.783037e+15    512.035731  0.000655    -2.489461  1.545200  15.251160   \n",
      "1482  2.117454e+15    590.896813  0.001951    -1.097280  1.526617  15.325814   \n",
      "1935  1.377320e+15    412.916704  0.001858    -0.855432  1.527679  15.139035   \n",
      "2358  2.096302e+15    585.973763  0.001260    -2.026924  1.535297  15.321454   \n",
      "2604  1.291697e+15    391.411705  0.001567    -1.074472  1.531194  15.111161   \n",
      "3023  2.352625e+15    645.100337  0.001543    -1.808137  1.531511  15.371553   \n",
      "3029  1.055496e+15    330.786138  0.000697    -1.576279  1.544399  15.023457   \n",
      "3076  2.277610e+15    627.913069  0.000795    -2.848600  1.542593  15.357479   \n",
      "3322  1.481108e+15    438.687801  0.001937    -0.828172  1.526768  15.170587   \n",
      "3555  1.564696e+15    459.224397  0.001442    -1.394540  1.532817  15.194430   \n",
      "3659  1.124160e+15    348.623562  0.001682    -0.864093  1.529767  15.050828   \n",
      "4053  1.400430e+15    418.682305  0.000163    -2.513396  1.558012  15.146262   \n",
      "4081  1.752840e+15    504.799003  0.002107    -0.754000  1.524875  15.243742   \n",
      "4694  1.260602e+15    383.543767  0.002426    -0.289857  1.521524  15.100578   \n",
      "5790  1.481870e+15    438.875937  0.002274    -0.485916  1.523091  15.170810   \n",
      "5883  1.191016e+15    365.817651  0.000762    -1.687914  1.543192  15.075918   \n",
      "6302  1.154265e+15    356.386451  0.001623    -0.932073  1.530493  15.062305   \n",
      "7137  1.043917e+15    327.759310  0.001199    -1.180073  1.536167  15.018666   \n",
      "7252  1.350836e+15    406.289511  0.000673    -1.958838  1.544860  15.130603   \n",
      "7318  2.219730e+15    614.587213  0.001155    -2.275586  1.536810  15.346300   \n",
      "7514  1.986407e+15    560.260796  0.001629    -1.458127  1.530425  15.298068   \n",
      "7525  1.788833e+15    513.422500  0.001952    -0.951882  1.526602  15.252570   \n",
      "7644  1.234051e+15    376.799935  0.000509    -1.960097  1.548244  15.091333   \n",
      "7655  1.197399e+15    367.450765  0.001030    -1.467001  1.538701  15.078239   \n",
      "7874  2.170574e+15    603.224227  0.000400    -3.289833  1.550794  15.336575   \n",
      "8218  1.166275e+15    359.474044  0.002554    -0.164494  1.520233  15.066801   \n",
      "8589  1.658564e+15    482.070004  0.001926    -0.922567  1.526895  15.219732   \n",
      "8672  1.241182e+15    378.613557  0.001222    -1.342817  1.535834  15.093835   \n",
      "8695  1.079603e+15    337.069985  0.000409    -1.830928  1.550560  15.033264   \n",
      "8889  1.141093e+15    352.994193  0.000722    -1.661289  1.543921  15.057321   \n",
      "9098  1.431956e+15    426.522077  0.000340    -2.385647  1.552357  15.155930   \n",
      "9469  1.027247e+15    323.391782  0.000553    -1.649070  1.547284  15.011675   \n",
      "9585  1.021540e+15    321.893871  0.000377    -1.772565  1.551372  15.009255   \n",
      "\n",
      "           lgS   lgS_ref  I  sqrt_I  \n",
      "418   2.922978  4.009070  0     0.0  \n",
      "2552  3.095269  3.561813  0     0.0  \n",
      "6563  3.162932  3.398846  0     0.0  \n",
      "3544  3.377785  3.503018  0     0.0  \n",
      "9227  3.429910  3.399951  0     0.0  \n",
      "7970  3.471274  3.614414  0     0.0  \n",
      "6574  3.498860  3.503674  0     0.0  \n",
      "2927  3.501747  3.543281  0     0.0  \n",
      "4933  3.564372  3.492036  0     0.0  \n",
      "8099  3.802742  3.738187  0     0.0  \n",
      "494        NaN  2.663999  0     0.0  \n",
      "1302       NaN  2.709300  0     0.0  \n",
      "1482       NaN  2.771512  0     0.0  \n",
      "1935       NaN  2.615862  0     0.0  \n",
      "2358       NaN  2.767878  0     0.0  \n",
      "2604       NaN  2.592634  0     0.0  \n",
      "3023       NaN  2.809627  0     0.0  \n",
      "3029       NaN  2.519547  0     0.0  \n",
      "3076       NaN  2.797900  0     0.0  \n",
      "3322       NaN  2.642156  0     0.0  \n",
      "3555       NaN  2.662025  0     0.0  \n",
      "3659       NaN  2.542357  0     0.0  \n",
      "4053       NaN  2.621885  0     0.0  \n",
      "4081       NaN  2.703118  0     0.0  \n",
      "4694       NaN  2.583815  0     0.0  \n",
      "5790       NaN  2.642342  0     0.0  \n",
      "5883       NaN  2.563265  0     0.0  \n",
      "6302       NaN  2.551921  0     0.0  \n",
      "7137       NaN  2.515555  0     0.0  \n",
      "7252       NaN  2.608836  0     0.0  \n",
      "7318       NaN  2.788584  0     0.0  \n",
      "7514       NaN  2.748390  0     0.0  \n",
      "7525       NaN  2.710475  0     0.0  \n",
      "7644       NaN  2.576111  0     0.0  \n",
      "7655       NaN  2.565199  0     0.0  \n",
      "7874       NaN  2.780479  0     0.0  \n",
      "8218       NaN  2.555668  0     0.0  \n",
      "8589       NaN  2.683110  0     0.0  \n",
      "8672       NaN  2.578196  0     0.0  \n",
      "8695       NaN  2.527720  0     0.0  \n",
      "8889       NaN  2.547768  0     0.0  \n",
      "9098       NaN  2.629942  0     0.0  \n",
      "9469       NaN  2.509729  0     0.0  \n",
      "9585       NaN  2.507713  0     0.0  \n",
      "Series([], dtype: float64)\n"
     ]
    }
   ],
   "source": [
    "bins2=np.linspace(0.05,0.95,10, endpoint = True)\n",
    "att_fit2, cov2 =sp.optimize.curve_fit(S_i_fit, bins2, val.S)\n",
    "data_up=mydata.I+mydata.sqrt_I\n",
    "print(delta_up.I)   #it seems like there are no values corresponding to the intensity with error\n",
    "print(mydata.I-mydata.sqrt_I)"
   ]
  },
  {
   "cell_type": "code",
   "execution_count": 5,
   "metadata": {
    "scrolled": false
   },
   "outputs": [
    {
     "name": "stdout",
     "output_type": "stream",
     "text": [
      "[0.05 0.15 0.25 0.35 0.45 0.55 0.65 0.75 0.85 0.95]\n"
     ]
    },
    {
     "data": {
      "image/png": "[encoded data removed]",
      "text/plain": [
       "<matplotlib.figure.Figure at 0x7f94eb806c50>"
      ]
     },
     "metadata": {},
     "output_type": "display_data"
    },
    {
     "name": "stdout",
     "output_type": "stream",
     "text": [
      "0.6209609477998339\n"
     ]
    }
   ],
   "source": [
    "fig2, ax2 = plt.subplots(figsize=(10,6))\n",
    "plt.grid()\n",
    "bins=np.linspace(0.0, 1, val.S.size)\n",
    "bins2=np.linspace(0.05,0.95,10, endpoint = True)\n",
    "\n",
    "print(bins2)\n",
    "\n",
    "att_fit2, cov2 =sp.optimize.curve_fit(S_i_fit, bins2, val.S)\n",
    "\n",
    "x=np.linspace(0,1, 1000)\n",
    "ax2.plot(val.cos2, val.S, lw=0, marker='o')\n",
    "ax2.plot(x, S_i_fit(x,att_fit2[0],att_fit2[1],att_fit2[2]))\n",
    "cos_ref = np.cos(38.*np.pi/180.)**2\n",
    "\n",
    "\n",
    "plt.show()\n",
    "print(cos_ref)"
   ]
  },
  {
   "cell_type": "code",
   "execution_count": 6,
   "metadata": {},
   "outputs": [
    {
     "name": "stdout",
     "output_type": "stream",
     "text": [
      "[ -0.88518014   0.98094675 835.52477083] [[ 1.00240578e-02  3.28842295e-03 -5.49556759e-01]\n",
      " [ 3.28842295e-03  1.69222473e-03 -1.81905133e-01]\n",
      " [-5.49556759e-01 -1.81905133e-01  8.52546504e+01]]\n",
      "[0.10012022 0.04113666 9.23334449]\n"
     ]
    }
   ],
   "source": [
    "print(att_fit2, cov2)\n",
    "print(np.sqrt(np.diag(cov2)))"
   ]
  },
  {
   "cell_type": "code",
   "execution_count": null,
   "metadata": {
    "collapsed": true
   },
   "outputs": [],
   "source": []
  },
  {
   "cell_type": "code",
   "execution_count": null,
   "metadata": {
    "collapsed": true
   },
   "outputs": [],
   "source": [
    "#gaussian smearing (10-15%)\n",
    "sigma=np.sqrt(0.1)\n",
    "N=len(val.S)\n",
    "gauss=np.zeros(N)\n",
    "\n",
    "print(np.random.normal(val.S, sigma))\n",
    "def gauss_distrib(mu, sigma):\n",
    "    for i in range(0,N):\n",
    "        m=mu[i]\n",
    "        gauss[i]=np.random.normal(m,sigma)\n",
    "    return gauss\n",
    "print(gauss_distrib(val.S, sigma))"
   ]
  },
  {
   "cell_type": "code",
   "execution_count": null,
   "metadata": {
    "collapsed": true
   },
   "outputs": [],
   "source": [
    "fig2, ax2 = plt.subplots(figsize=(8,6))\n",
    "plt.grid()\n",
    "bins2=np.linspace(15, 17, 20)\n",
    "\n",
    "sel_data = data.loc[data.cos2>0.]\n",
    "sel_data = sel_data.loc[sel_data.cos2<0.2]\n",
    "ax2.hist(sel_data.lgE,bins = bins2, normed = False, alpha=0.5,label=\"0.-0.2\", ec='white')\n",
    "\n",
    "sel_data = data.loc[data.cos2>0.2]\n",
    "sel_data = sel_data.loc[sel_data.cos2<0.4]\n",
    "#n4, bins5, patches = ax2.hist(data.lgE,bins = 100, normed = False, label=\"Histogram\", ec='white')\n",
    "ax2.hist(sel_data.lgE,bins = bins2, normed = False, alpha=0.5,label=\"0.2-0.4\", ec='white')\n",
    "\n",
    "\n",
    "sel_data= data.loc[data.cos2>0.4]\n",
    "sel_data=sel_data.loc[sel_data.cos2<0.6]\n",
    "ax2.hist(sel_data.lgE,bins = bins2, normed = False, alpha=0.5,label=\"0.4-0.6\", ec='white')\n",
    "\n",
    "sel_data = data.loc[data.cos2>0.6]\n",
    "sel_data = sel_data.loc[sel_data.cos2<0.8]\n",
    "ax2.hist(sel_data.lgE,bins = bins2, normed = False, alpha=0.5,label=\"0.6-0.8\", ec='white')\n",
    "\n",
    "\n",
    "sel_data = data.loc[data.cos2>0.8]\n",
    "sel_data = sel_data.loc[sel_data.cos2<1.]\n",
    "ax2.hist(sel_data.lgE,bins = bins2, normed = False, alpha=0.5,label=\"0.8-1\", ec='white')\n",
    "\n",
    "ax2.set_xlabel(\"lg (E/eV)\")\n",
    "ax2.set_ylabel(\"flux\", fontsize=20)\n",
    "ax2.set_yscale('log')\n",
    "#ax2.set_xscale('log')\n",
    "ax2.legend()\n",
    "plt.show()"
   ]
  },
  {
   "cell_type": "code",
   "execution_count": null,
   "metadata": {
    "collapsed": true
   },
   "outputs": [],
   "source": [
    "fig2, ax2 = plt.subplots(figsize=(16,10))\n",
    "#plt.grid()\n",
    "bins=np.linspace(2.5, 4, 50)\n",
    "\n",
    "#sel_data = data.loc[data.cos2>0.]\n",
    "#sel_data = sel_data.loc[sel_data.cos2<0.2]\n",
    "#ax2.hist(sel_data.lgS,bins = bins, normed = False, alpha=0.5,label=\"0.-0.2\", ec='white')\n",
    "\n",
    "sel_data = data.loc[data.cos2>0.2]\n",
    "sel_data = sel_data.loc[sel_data.cos2<0.4]\n",
    "#n4, bins5, patches = ax2.hist(data.lgE,bins = 100, normed = False, label=\"Histogram\", ec='white')\n",
    "ax2.hist(sel_data.lgS,bins = bins, normed = False, alpha=0.5,label=\"0.2-0.4\", ec='white')\n",
    "\n",
    "\n",
    "sel_data= data.loc[data.cos2>0.4]\n",
    "sel_data=sel_data.loc[sel_data.cos2<0.6]\n",
    "ax2.hist(sel_data.lgS,bins = bins, normed = False, alpha=0.5,label=\"0.4-0.6\", ec='white')\n",
    "\n",
    "sel_data = data.loc[data.cos2>0.6]\n",
    "sel_data = sel_data.loc[sel_data.cos2<0.8]\n",
    "ax2.hist(sel_data.lgS,bins = bins, normed = False, alpha=0.5,label=\"0.6-0.8\", ec='white')\n",
    "\n",
    "\n",
    "sel_data = data.loc[data.cos2>0.8]\n",
    "sel_data = sel_data.loc[sel_data.cos2<1.]\n",
    "ax2.hist(sel_data.lgS,bins = bins, normed = False, alpha=0.5,label=\"0.8-1\", ec='white')\n",
    "\n",
    "ax2.set_xlabel(\"lg (E/eV)\")\n",
    "ax2.set_ylabel(\"flux\", fontsize=20)\n",
    "ax2.set_yscale('log')\n",
    "#ax2.set_xscale('log')\n",
    "ax2.legend()\n",
    "plt.show()"
   ]
  },
  {
   "cell_type": "code",
   "execution_count": null,
   "metadata": {
    "collapsed": true
   },
   "outputs": [],
   "source": [
    "def fit_powerlow(x, a, b):\n",
    "    return a*(10**(x-15))**b\n",
    "n= n[np.where(n>10)]\n",
    "\n",
    "bins2=bins[np.where(n>10)]\n",
    "from scipy.optimize import curve_fit\n",
    "\n",
    "pars, cov = curve_fit(fit_powerlow, bins2, n , p0=[1000, 1.5])\n",
    "print(pars)\n",
    "\n",
    "fig2, ax2 = plt.subplots(figsize=(8,6))\n",
    "plt.grid()\n",
    "ax2.plot(bins2, n)\n",
    "ax2.plot(bins2, fit_powerlow(bins2, *pars), lw=4, label=\"Fit_powerlow\")\n",
    "ax2.set_xlabel(\"log10(E/eV)-18\")\n",
    "ax2.set_ylabel(\"flux\", fontsize=20)\n",
    "ax2.set_yscale('log')\n",
    "ax2.legend()\n",
    "plt.show()"
   ]
  },
  {
   "cell_type": "code",
   "execution_count": null,
   "metadata": {
    "collapsed": true
   },
   "outputs": [],
   "source": [
    "def fit_Si(x, a, gamma):\n",
    "     return a*(10**(x-2.5))**(gamma)\n",
    "\n",
    "n2=n2[np.where(n2>0)]\n",
    "bins3=bins3[np.where(n2>0)]\n",
    "pars2, cov2 = curve_fit(fit_Si, bins3, n2 , p0=[100, -1.2])\n",
    "print(pars2, cov2)\n",
    "\n",
    "fig2, ax2 = plt.subplots(figsize=(8,6))\n",
    "plt.grid()\n",
    "n2, bins3, patches = ax2.hist(np.log10(S_i_ref),bins = 100, normed = False, label=\"Histogram\", ec='white') #plot the data in a histogram with 100 bins\n",
    "\n",
    "ax2.plot(bins3, fit_Si(bins3, *pars2) , lw=4, label=\"Fit_Si\")\n",
    "ax2.set_xlabel(\"X\")\n",
    "ax2.set_ylabel(\"flux\", fontsize=20)\n",
    "ax2.set_yscale('log')\n",
    "#ax2.set_xscale('log')\n",
    "ax2.legend()\n",
    "plt.show()"
   ]
  },
  {
   "cell_type": "code",
   "execution_count": null,
   "metadata": {
    "collapsed": true
   },
   "outputs": [],
   "source": [
    "fig2, ax2 = plt.subplots(figsize=(8,6))\n",
    "plt.grid()\n",
    "ax2.hist(data.cos2, bins=10)\n",
    "ax2.legend()\n",
    "plt.show()"
   ]
  },
  {
   "cell_type": "code",
   "execution_count": null,
   "metadata": {
    "collapsed": true
   },
   "outputs": [],
   "source": []
  },
  {
   "cell_type": "code",
   "execution_count": null,
   "metadata": {
    "collapsed": true
   },
   "outputs": [],
   "source": []
  },
  {
   "cell_type": "code",
   "execution_count": null,
   "metadata": {
    "collapsed": true
   },
   "outputs": [],
   "source": []
  }
 ],
 "metadata": {
  "kernelspec": {
   "display_name": "Python 3",
   "language": "python",
   "name": "python3"
  },
  "language_info": {
   "codemirror_mode": {
    "name": "ipython",
    "version": 3
   },
   "file_extension": ".py",
   "mimetype": "text/x-python",
   "name": "python",
   "nbconvert_exporter": "python",
   "pygments_lexer": "ipython3",
   "version": "3.6.3"
  }
 },
 "nbformat": 4,
 "nbformat_minor": 2
}
