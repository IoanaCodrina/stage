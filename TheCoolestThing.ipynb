{
 "cells": [
  {
   "cell_type": "code",
   "execution_count": null,
   "metadata": {
    "collapsed": true
   },
   "outputs": [],
   "source": [
    "import numpy as np\n",
    "import scipy as sp\n",
    "import pandas as pd\n",
    "\n",
    "from scipy import optimize\n",
    "\n",
    "%matplotlib inline \n",
    "import matplotlib.pyplot as plt"
   ]
  },
  {
   "cell_type": "code",
   "execution_count": null,
   "metadata": {
    "collapsed": true
   },
   "outputs": [],
   "source": [
    "def rndm(a, b, g, size=1):\n",
    "    \"\"\"Power-law gen for pdf(x)\\propto x^{g-1} for a<=x<=b\"\"\"\n",
    "    r = np.random.random(size=size)\n",
    "    ag, bg = a**g, b**g\n",
    "    return (ag + (bg - ag)*r)**(1./g)\n",
    "\n",
    "N= 10000\n",
    "\n",
    "\n",
    "\n",
    "def S_ref(A,B,E):\n",
    "    return (E/A)**(1/B)\n",
    "\n",
    "\n",
    "def S_i(alpha, beta, delta, cos, f):\n",
    "    cos_ref=np.cos(38*np.pi/180.)**2\n",
    "    x = cos-cos_ref\n",
    "    return f*(delta+beta*x+alpha*x**2)\n",
    "\n",
    "def S_i_fit(cos, alpha, beta, f):\n",
    "    cos_ref=np.cos(38*np.pi/180.)**2\n",
    "    x = cos-cos_ref\n",
    "    return f*(alpha*x**2+beta*x+1)\n",
    "\n",
    "\n",
    "def get_random_vars(N):\n",
    "    E0 = 10**15\n",
    "    E1 = 10**18\n",
    "    gamma = -2.5\n",
    "\n",
    "    A = 10**12\n",
    "    B = 1.2\n",
    "    b=0.919\n",
    "    a=-1.13\n",
    "    c=1\n",
    "\n",
    "    E = rndm(E0, E1, gamma, N) \n",
    "    \n",
    "    S_i_ref=S_ref(A,B,E)\n",
    "    cos_2 = np.random.rand(N)\n",
    "    S=S_i(a,b,c,cos_2,S_i_ref)\n",
    "    data=pd.DataFrame()\n",
    "    data['E'] = E\n",
    "    data['S_ref'] = S_i_ref\n",
    "    data['cos2'] = cos_2\n",
    "    data['S'] = S\n",
    "    data['th'] = np.arccos(np.sqrt(data.cos2))\n",
    "    data['lgE'] = np.log10(data.E)\n",
    "    data['lgS'] = np.log10(data.S)\n",
    "    data['lgS_ref'] = np.log10(data.S_ref)\n",
    "    data = data.sort_values(['lgS'])\n",
    "    data['I'] = 0\n",
    "    bins = np.linspace(0, 1, 11, endpoint = True )\n",
    "    ind = np.digitize(data['cos2'],bins)\n",
    "    groups = data.groupby(ind)\n",
    "                      \n",
    "    for name, group in groups:\n",
    "        values = group['lgS'].apply(lambda x: group[group['lgS']>x].count())\n",
    "        data.loc[group.I.index.tolist(), 'I']= values.I \n",
    "        \n",
    "    data['sqrt_I']=np.sqrt(data.I)\n",
    "    return data\n",
    "\n"
   ]
  },
  {
   "cell_type": "code",
   "execution_count": null,
   "metadata": {
    "collapsed": false,
    "scrolled": false
   },
   "outputs": [],
   "source": [
    "m=10\n",
    "ref_intensity= 50\n",
    "#data=pd.DataFrame.clear\n",
    "#print(type(data))\n",
    "for i in range(0,m): \n",
    "    mydata = get_random_vars(10000)\n",
    "    val = mydata.loc[mydata.I == ref_intensity]\n",
    "    delta_up = mydata.loc[mydata.I== mydata.I+mydata.sqrt_I]\n",
    "    delta_down = mydata.loc[mydata.I== mydata.I-mydata.sqrt_I]\n",
    "    delta_Scal = delta_down.S-delta_up.S\n",
    "    #delta_Si\n",
    "    for j in range(0,m-1):\n",
    "        delta_val=val.S[j+1]-val.S[j]\n",
    "        \n",
    "    mydata.drop(mydata.index,  inplace=True)\n",
    "    #print(mydata.S.std())\n",
    "    \n",
    "print(type(mydata.index))"
   ]
  },
  {
   "cell_type": "code",
   "execution_count": null,
   "metadata": {
    "collapsed": false
   },
   "outputs": [],
   "source": [
    "bins2=np.linspace(0.05,0.95,10, endpoint = True)\n",
    "att_fit2, cov2 =sp.optimize.curve_fit(S_i_fit, bins2, val.S)\n",
    "data_up=mydata.I+mydata.sqrt_I\n",
    "print(delta_up.I)   #it seems like there are no values corresponding to the intensity with error\n",
    "print(mydata.I-mydata.sqrt_I)"
   ]
  },
  {
   "cell_type": "code",
   "execution_count": null,
   "metadata": {
    "collapsed": false,
    "scrolled": false
   },
   "outputs": [],
   "source": [
    "fig2, ax2 = plt.subplots(figsize=(10,6))\n",
    "plt.grid()\n",
    "bins=np.linspace(0.0, 1, val.S.size)\n",
    "bins2=np.linspace(0.05,0.95,10, endpoint = True)\n",
    "\n",
    "print(bins2)\n",
    "\n",
    "att_fit2, cov2 =sp.optimize.curve_fit(S_i_fit, bins2, val.S)\n",
    "\n",
    "x=np.linspace(0,1, 1000)\n",
    "ax2.plot(val.cos2, val.S, lw=0, marker='o')\n",
    "ax2.plot(x, S_i_fit(x,att_fit2[0],att_fit2[1],att_fit2[2]))\n",
    "cos_ref = np.cos(38.*np.pi/180.)**2\n",
    "\n",
    "\n",
    "plt.show()\n",
    "print(cos_ref)"
   ]
  },
  {
   "cell_type": "code",
   "execution_count": null,
   "metadata": {
    "collapsed": false
   },
   "outputs": [],
   "source": [
    "print(att_fit2, cov2)\n",
    "print(np.sqrt(np.diag(cov2)))"
   ]
  },
  {
   "cell_type": "code",
   "execution_count": null,
   "metadata": {
    "collapsed": true
   },
   "outputs": [],
   "source": []
  },
  {
   "cell_type": "code",
   "execution_count": null,
   "metadata": {
    "collapsed": true
   },
   "outputs": [],
   "source": [
    "#gaussian smearing (10-15%)\n",
    "sigma=np.sqrt(0.1)\n",
    "N=len(val.S)\n",
    "gauss=np.zeros(N)\n",
    "\n",
    "print(np.random.normal(val.S, sigma))\n",
    "def gauss_distrib(mu, sigma):\n",
    "    for i in range(0,N):\n",
    "        m=mu[i]\n",
    "        gauss[i]=np.random.normal(m,sigma)\n",
    "    return gauss\n",
    "print(gauss_distrib(val.S, sigma))"
   ]
  },
  {
   "cell_type": "code",
   "execution_count": null,
   "metadata": {
    "collapsed": true
   },
   "outputs": [],
   "source": [
    "fig2, ax2 = plt.subplots(figsize=(8,6))\n",
    "plt.grid()\n",
    "bins2=np.linspace(15, 17, 20)\n",
    "\n",
    "sel_data = data.loc[data.cos2>0.]\n",
    "sel_data = sel_data.loc[sel_data.cos2<0.2]\n",
    "ax2.hist(sel_data.lgE,bins = bins2, normed = False, alpha=0.5,label=\"0.-0.2\", ec='white')\n",
    "\n",
    "sel_data = data.loc[data.cos2>0.2]\n",
    "sel_data = sel_data.loc[sel_data.cos2<0.4]\n",
    "#n4, bins5, patches = ax2.hist(data.lgE,bins = 100, normed = False, label=\"Histogram\", ec='white')\n",
    "ax2.hist(sel_data.lgE,bins = bins2, normed = False, alpha=0.5,label=\"0.2-0.4\", ec='white')\n",
    "\n",
    "\n",
    "sel_data= data.loc[data.cos2>0.4]\n",
    "sel_data=sel_data.loc[sel_data.cos2<0.6]\n",
    "ax2.hist(sel_data.lgE,bins = bins2, normed = False, alpha=0.5,label=\"0.4-0.6\", ec='white')\n",
    "\n",
    "sel_data = data.loc[data.cos2>0.6]\n",
    "sel_data = sel_data.loc[sel_data.cos2<0.8]\n",
    "ax2.hist(sel_data.lgE,bins = bins2, normed = False, alpha=0.5,label=\"0.6-0.8\", ec='white')\n",
    "\n",
    "\n",
    "sel_data = data.loc[data.cos2>0.8]\n",
    "sel_data = sel_data.loc[sel_data.cos2<1.]\n",
    "ax2.hist(sel_data.lgE,bins = bins2, normed = False, alpha=0.5,label=\"0.8-1\", ec='white')\n",
    "\n",
    "ax2.set_xlabel(\"lg (E/eV)\")\n",
    "ax2.set_ylabel(\"flux\", fontsize=20)\n",
    "ax2.set_yscale('log')\n",
    "#ax2.set_xscale('log')\n",
    "ax2.legend()\n",
    "plt.show()"
   ]
  },
  {
   "cell_type": "code",
   "execution_count": null,
   "metadata": {
    "collapsed": true
   },
   "outputs": [],
   "source": [
    "fig2, ax2 = plt.subplots(figsize=(16,10))\n",
    "#plt.grid()\n",
    "bins=np.linspace(2.5, 4, 50)\n",
    "\n",
    "#sel_data = data.loc[data.cos2>0.]\n",
    "#sel_data = sel_data.loc[sel_data.cos2<0.2]\n",
    "#ax2.hist(sel_data.lgS,bins = bins, normed = False, alpha=0.5,label=\"0.-0.2\", ec='white')\n",
    "\n",
    "sel_data = data.loc[data.cos2>0.2]\n",
    "sel_data = sel_data.loc[sel_data.cos2<0.4]\n",
    "#n4, bins5, patches = ax2.hist(data.lgE,bins = 100, normed = False, label=\"Histogram\", ec='white')\n",
    "ax2.hist(sel_data.lgS,bins = bins, normed = False, alpha=0.5,label=\"0.2-0.4\", ec='white')\n",
    "\n",
    "\n",
    "sel_data= data.loc[data.cos2>0.4]\n",
    "sel_data=sel_data.loc[sel_data.cos2<0.6]\n",
    "ax2.hist(sel_data.lgS,bins = bins, normed = False, alpha=0.5,label=\"0.4-0.6\", ec='white')\n",
    "\n",
    "sel_data = data.loc[data.cos2>0.6]\n",
    "sel_data = sel_data.loc[sel_data.cos2<0.8]\n",
    "ax2.hist(sel_data.lgS,bins = bins, normed = False, alpha=0.5,label=\"0.6-0.8\", ec='white')\n",
    "\n",
    "\n",
    "sel_data = data.loc[data.cos2>0.8]\n",
    "sel_data = sel_data.loc[sel_data.cos2<1.]\n",
    "ax2.hist(sel_data.lgS,bins = bins, normed = False, alpha=0.5,label=\"0.8-1\", ec='white')\n",
    "\n",
    "ax2.set_xlabel(\"lg (E/eV)\")\n",
    "ax2.set_ylabel(\"flux\", fontsize=20)\n",
    "ax2.set_yscale('log')\n",
    "#ax2.set_xscale('log')\n",
    "ax2.legend()\n",
    "plt.show()"
   ]
  },
  {
   "cell_type": "code",
   "execution_count": null,
   "metadata": {
    "collapsed": true
   },
   "outputs": [],
   "source": [
    "def fit_powerlow(x, a, b):\n",
    "    return a*(10**(x-15))**b\n",
    "n= n[np.where(n>10)]\n",
    "\n",
    "bins2=bins[np.where(n>10)]\n",
    "from scipy.optimize import curve_fit\n",
    "\n",
    "pars, cov = curve_fit(fit_powerlow, bins2, n , p0=[1000, 1.5])\n",
    "print(pars)\n",
    "\n",
    "fig2, ax2 = plt.subplots(figsize=(8,6))\n",
    "plt.grid()\n",
    "ax2.plot(bins2, n)\n",
    "ax2.plot(bins2, fit_powerlow(bins2, *pars), lw=4, label=\"Fit_powerlow\")\n",
    "ax2.set_xlabel(\"log10(E/eV)-18\")\n",
    "ax2.set_ylabel(\"flux\", fontsize=20)\n",
    "ax2.set_yscale('log')\n",
    "ax2.legend()\n",
    "plt.show()"
   ]
  },
  {
   "cell_type": "code",
   "execution_count": null,
   "metadata": {
    "collapsed": true
   },
   "outputs": [],
   "source": [
    "def fit_Si(x, a, gamma):\n",
    "     return a*(10**(x-2.5))**(gamma)\n",
    "\n",
    "n2=n2[np.where(n2>0)]\n",
    "bins3=bins3[np.where(n2>0)]\n",
    "pars2, cov2 = curve_fit(fit_Si, bins3, n2 , p0=[100, -1.2])\n",
    "print(pars2, cov2)\n",
    "\n",
    "fig2, ax2 = plt.subplots(figsize=(8,6))\n",
    "plt.grid()\n",
    "n2, bins3, patches = ax2.hist(np.log10(S_i_ref),bins = 100, normed = False, label=\"Histogram\", ec='white') #plot the data in a histogram with 100 bins\n",
    "\n",
    "ax2.plot(bins3, fit_Si(bins3, *pars2) , lw=4, label=\"Fit_Si\")\n",
    "ax2.set_xlabel(\"X\")\n",
    "ax2.set_ylabel(\"flux\", fontsize=20)\n",
    "ax2.set_yscale('log')\n",
    "#ax2.set_xscale('log')\n",
    "ax2.legend()\n",
    "plt.show()"
   ]
  },
  {
   "cell_type": "code",
   "execution_count": null,
   "metadata": {
    "collapsed": true
   },
   "outputs": [],
   "source": [
    "fig2, ax2 = plt.subplots(figsize=(8,6))\n",
    "plt.grid()\n",
    "ax2.hist(data.cos2, bins=10)\n",
    "ax2.legend()\n",
    "plt.show()"
   ]
  }
 ],
 "metadata": {
  "kernelspec": {
   "display_name": "Python 3",
   "language": "python",
   "name": "python3"
  },
  "language_info": {
   "codemirror_mode": {
    "name": "ipython",
    "version": 3
   },
   "file_extension": ".py",
   "mimetype": "text/x-python",
   "name": "python",
   "nbconvert_exporter": "python",
   "pygments_lexer": "ipython3",
   "version": "3.5.4"
  }
 },
 "nbformat": 4,
 "nbformat_minor": 2
}
