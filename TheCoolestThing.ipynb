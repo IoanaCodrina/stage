{
 "cells": [
  {
   "cell_type": "code",
   "execution_count": 1,
   "metadata": {
    "collapsed": true
   },
   "outputs": [],
   "source": [
    "import numpy as np\n",
    "import scipy as sp\n",
    "import pandas as pd\n",
    "\n",
    "from scipy import optimize\n",
    "\n",
    "%matplotlib inline \n",
    "import matplotlib.pyplot as plt"
   ]
  },
  {
   "cell_type": "code",
   "execution_count": 53,
   "metadata": {
    "collapsed": true
   },
   "outputs": [],
   "source": [
    "def rndm(a, b, g, size=1):\n",
    "    \"\"\"Power-law gen for pdf(x)\\propto x^{g-1} for a<=x<=b\"\"\"\n",
    "    r = np.random.random(size=size)\n",
    "    ag, bg = a**g, b**g\n",
    "    return (ag + (bg - ag)*r)**(1./g)\n",
    "\n",
    "E0 = 10**15\n",
    "E1 = 10**18\n",
    "gamma = -2.5\n",
    "N= 10000\n",
    "\n",
    "E = rndm(E0, E1, gamma, N) \n",
    "A = 10**12\n",
    "B = 1.2\n",
    "\n",
    "def S_ref(A,B,E):\n",
    "    return (E/A)**(1/B)\n",
    "\n",
    "S_i_ref=S_ref(A,B,E)\n",
    "cos_2 = np.random.rand(N)\n",
    "\n",
    "def S_i(alpha, beta, delta, cos, f):\n",
    "    cos_ref=np.cos(38*np.pi/180.)**2\n",
    "    x = cos-cos_ref\n",
    "    return f*(delta+beta*x+alpha*x**2)\n",
    "\n",
    "def S_i_fit(cos, alpha, beta, delta,f):\n",
    "    cos_ref=np.cos(38*np.pi/180.)**2\n",
    "    x = cos-cos_ref\n",
    "    return f*(alpha*x**2+beta*x+delta)\n",
    "\n",
    "b=0.919\n",
    "a=-1.13\n",
    "c=1\n",
    "\n",
    "\n",
    "S=S_i(a,b,c,cos_2,S_i_ref)"
   ]
  },
  {
   "cell_type": "code",
   "execution_count": 3,
   "metadata": {},
   "outputs": [
    {
     "name": "stdout",
     "output_type": "stream",
     "text": [
      "<class 'pandas.core.indexes.range.RangeIndex'>\n"
     ]
    },
    {
     "name": "stderr",
     "output_type": "stream",
     "text": [
      "/home/noemie/anaconda3/lib/python3.6/site-packages/ipykernel_launcher.py:8: RuntimeWarning: invalid value encountered in log10\n",
      "  \n"
     ]
    }
   ],
   "source": [
    "data = pd.DataFrame()\n",
    "data['E'] = E\n",
    "data['S_ref'] = S_i_ref\n",
    "data['cos2'] = cos_2\n",
    "data['S'] = S\n",
    "data['th'] = np.arccos(np.sqrt(data.cos2))\n",
    "data['lgE'] = np.log10(data.E)\n",
    "data['lgS'] = np.log10(data.S)\n",
    "data['lgS_ref'] = np.log10(data.S_ref)\n",
    "print(type(data.index))"
   ]
  },
  {
   "cell_type": "code",
   "execution_count": 4,
   "metadata": {
    "collapsed": true
   },
   "outputs": [],
   "source": [
    "data = data.sort_values(['lgS'])\n",
    "data['I'] = 0\n",
    "bins = np.linspace(0, 1, 11, endpoint = True )\n",
    "ind = np.digitize(data['cos2'],bins)\n",
    "groups = data.groupby(ind)\n",
    "                      \n",
    "\n",
    "for name, group in groups:\n",
    "    values = group['lgS'].apply(lambda x: group[group['lgS']>x].count())\n",
    "    data.loc[group.I.index.tolist(), 'I']= values.I \n",
    "    #print(values)\n",
    "#print(data)   "
   ]
  },
  {
   "cell_type": "code",
   "execution_count": 57,
   "metadata": {
    "scrolled": false
   },
   "outputs": [
    {
     "name": "stdout",
     "output_type": "stream",
     "text": [
      "                 E       S_ref      cos2           S        th        lgE  \\\n",
      "6132  2.326499e+15  639.124978  0.065755   90.397315  1.311472  15.366703   \n",
      "748   2.403198e+15  656.635989  0.164893  227.088548  1.152646  15.380790   \n",
      "2718  2.352812e+15  645.143043  0.267580  344.590235  1.027126  15.371587   \n",
      "341   2.180215e+15  605.456344  0.395609  445.323260  0.890562  15.338499   \n",
      "1955  2.479911e+15  674.057177  0.416456  515.519183  0.869336  15.394436   \n",
      "8593  2.324901e+15  638.758970  0.588601  619.007310  0.696327  15.366404   \n",
      "7298  2.474692e+15  672.874858  0.649821  690.087824  0.633239  15.393521   \n",
      "6583  2.389138e+15  653.432971  0.735940  712.716827  0.539688  15.378241   \n",
      "3505  2.520106e+15  683.149463  0.973827  808.563766  0.162496  15.401419   \n",
      "275   2.749535e+15  734.597470  0.825712  838.023715  0.430669  15.439259   \n",
      "\n",
      "           lgS   lgS_ref    I  \n",
      "6132  1.956156  2.805586  100  \n",
      "748   2.356195  2.817325  100  \n",
      "2718  2.537303  2.809656  100  \n",
      "341   2.648675  2.782083  100  \n",
      "1955  2.712245  2.828697  100  \n",
      "8593  2.791696  2.805337  100  \n",
      "7298  2.838904  2.827934  100  \n",
      "6583  2.852917  2.815201  100  \n",
      "3505  2.907714  2.834516  100  \n",
      "275   2.923256  2.866049  100  \n",
      "[ 0.05  0.15  0.25  0.35  0.45  0.55  0.65  0.75  0.85  0.95]\n"
     ]
    },
    {
     "data": {
      "image/png": "[encoded data removed]",
      "text/plain": [
       "<matplotlib.figure.Figure at 0x7ff0baea23c8>"
      ]
     },
     "metadata": {},
     "output_type": "display_data"
    },
    {
     "name": "stdout",
     "output_type": "stream",
     "text": [
      "0.6209609478\n"
     ]
    }
   ],
   "source": [
    "ref_intensity = 100\n",
    "#print(data.I)\n",
    "val = data.loc[data.I == ref_intensity]\n",
    "print(val)\n",
    "fig2, ax2 = plt.subplots(figsize=(10,6))\n",
    "plt.grid()\n",
    "bins=np.linspace(0.0, 1, val.S.size)\n",
    "bins2=np.linspace(0.05,0.95,10, endpoint = True)\n",
    "\n",
    "print(bins2)\n",
    "att_fit, cov=np.polyfit(val.cos2-np.cos(38*np.pi/180.)**2, val.S, 2, cov=True)\n",
    "att_fit2, cov2 =sp.optimize.curve_fit(S_i_fit, bins2, val.S)\n",
    "\n",
    "x=np.linspace(0,1, 1000)\n",
    "ax2.plot(val.cos2, val.S, lw=0, marker='o')\n",
    "#ax2.plot(val.cos2, S_i(a,b,c,val.cos2,350), 'r--')\n",
    "#ax2.plot(x, S_i(a,b,c,x,350),'--g')\n",
    "ax2.plot(x, S_i_fit(x,att_fit2[0],att_fit2[1],att_fit2[2],att_fit2[3]))\n",
    "cos_ref=np.cos(38.*np.pi/180.)**2\n",
    "#ax2.set_yscale('log')\n",
    "\n",
    "plt.show()\n",
    "print(cos_ref)"
   ]
  },
  {
   "cell_type": "code",
   "execution_count": 58,
   "metadata": {},
   "outputs": [
    {
     "name": "stdout",
     "output_type": "stream",
     "text": [
      "[-22.30455468  29.97436191  28.70517291  23.09311058] [[  1.88906768e+14  -2.53865606e+14  -2.43116309e+14   1.95711975e+14]\n",
      " [ -2.53865606e+14   3.41161656e+14   3.26716029e+14  -2.63010899e+14]\n",
      " [ -2.43116309e+14   3.26716029e+14   3.12882066e+14  -2.51874369e+14]\n",
      " [  1.95711975e+14  -2.63010899e+14  -2.51874369e+14   2.02762333e+14]]\n",
      "[ 13744335.85448836  18470561.86801707  17688472.68252452\n",
      "  14239463.92676943]\n"
     ]
    }
   ],
   "source": [
    "#print(att_fit2)\n",
    "print(att_fit2, cov2)\n",
    "print(np.sqrt(np.diag(cov2)))"
   ]
  },
  {
   "cell_type": "code",
   "execution_count": 69,
   "metadata": {},
   "outputs": [
    {
     "name": "stdout",
     "output_type": "stream",
     "text": [
      "                 E       S_ref      cos2           S        th        lgE  \\\n",
      "4714  1.194508e+15  366.711231  0.228380  170.543610  1.072544  15.077189   \n",
      "8127  1.343632e+15  404.482997  0.797684  455.899740  0.466537  15.128280   \n",
      "4889  1.711990e+15  494.976260  0.698496  526.883243  0.581279  15.233501   \n",
      "9641  1.339602e+15  403.471837  0.834475  461.856123  0.419000  15.126976   \n",
      "1662  1.393436e+15  416.939065  0.728768  452.771377  0.547787  15.144087   \n",
      "\n",
      "           lgS   lgS_ref    I  \n",
      "4714  2.231835  2.564324  754  \n",
      "8127  2.658869  2.606900  457  \n",
      "4889  2.721714  2.694584  230  \n",
      "9641  2.664507  2.605813  477  \n",
      "1662  2.655879  2.620073  471  \n"
     ]
    }
   ],
   "source": [
    "#I_resampled=np.random.choice(data.I, 5, replace=False)\n",
    "#print(I_resampled)\n",
    "\n",
    "for i in range(0,100):\n",
    "    \n",
    "\n",
    "I_new=data.sample(5)\n",
    "print(I_new)\n",
    "bins3=np.linspace(0.05,0.95,5, endpoint = True)\n",
    "att_fit3, cov3 =sp.optimize.curve_fit(S_i_fit, bins3, I_new.S)"
   ]
  },
  {
   "cell_type": "code",
   "execution_count": 22,
   "metadata": {},
   "outputs": [
    {
     "name": "stdout",
     "output_type": "stream",
     "text": [
      "[  32.99596068  123.80736846  186.27045495  251.47488279  299.34323555\n",
      "  350.56360367  375.52284279  422.91590647  430.04962878  447.89386036]\n"
     ]
    },
    {
     "ename": "KeyError",
     "evalue": "0",
     "output_type": "error",
     "traceback": [
      "\u001b[0;31m---------------------------------------------------------------------------\u001b[0m",
      "\u001b[0;31mKeyError\u001b[0m                                  Traceback (most recent call last)",
      "\u001b[0;32m<ipython-input-22-972014ece52f>\u001b[0m in \u001b[0;36m<module>\u001b[0;34m()\u001b[0m\n\u001b[1;32m     10\u001b[0m         \u001b[0mgauss\u001b[0m\u001b[0;34m[\u001b[0m\u001b[0mi\u001b[0m\u001b[0;34m]\u001b[0m\u001b[0;34m=\u001b[0m\u001b[0mnp\u001b[0m\u001b[0;34m.\u001b[0m\u001b[0mrandom\u001b[0m\u001b[0;34m.\u001b[0m\u001b[0mnormal\u001b[0m\u001b[0;34m(\u001b[0m\u001b[0mm\u001b[0m\u001b[0;34m,\u001b[0m\u001b[0msigma\u001b[0m\u001b[0;34m)\u001b[0m\u001b[0;34m\u001b[0m\u001b[0m\n\u001b[1;32m     11\u001b[0m     \u001b[0;32mreturn\u001b[0m \u001b[0mgauss\u001b[0m\u001b[0;34m\u001b[0m\u001b[0m\n\u001b[0;32m---> 12\u001b[0;31m \u001b[0mprint\u001b[0m\u001b[0;34m(\u001b[0m\u001b[0mgauss_distrib\u001b[0m\u001b[0;34m(\u001b[0m\u001b[0mval\u001b[0m\u001b[0;34m.\u001b[0m\u001b[0mS\u001b[0m\u001b[0;34m,\u001b[0m \u001b[0msigma\u001b[0m\u001b[0;34m)\u001b[0m\u001b[0;34m)\u001b[0m\u001b[0;34m\u001b[0m\u001b[0m\n\u001b[0m",
      "\u001b[0;32m<ipython-input-22-972014ece52f>\u001b[0m in \u001b[0;36mgauss_distrib\u001b[0;34m(mu, sigma)\u001b[0m\n\u001b[1;32m      7\u001b[0m \u001b[0;32mdef\u001b[0m \u001b[0mgauss_distrib\u001b[0m\u001b[0;34m(\u001b[0m\u001b[0mmu\u001b[0m\u001b[0;34m,\u001b[0m \u001b[0msigma\u001b[0m\u001b[0;34m)\u001b[0m\u001b[0;34m:\u001b[0m\u001b[0;34m\u001b[0m\u001b[0m\n\u001b[1;32m      8\u001b[0m     \u001b[0;32mfor\u001b[0m \u001b[0mi\u001b[0m \u001b[0;32min\u001b[0m \u001b[0mrange\u001b[0m\u001b[0;34m(\u001b[0m\u001b[0;36m0\u001b[0m\u001b[0;34m,\u001b[0m\u001b[0mN\u001b[0m\u001b[0;34m)\u001b[0m\u001b[0;34m:\u001b[0m\u001b[0;34m\u001b[0m\u001b[0m\n\u001b[0;32m----> 9\u001b[0;31m         \u001b[0mm\u001b[0m\u001b[0;34m=\u001b[0m\u001b[0mmu\u001b[0m\u001b[0;34m[\u001b[0m\u001b[0mi\u001b[0m\u001b[0;34m]\u001b[0m\u001b[0;34m\u001b[0m\u001b[0m\n\u001b[0m\u001b[1;32m     10\u001b[0m         \u001b[0mgauss\u001b[0m\u001b[0;34m[\u001b[0m\u001b[0mi\u001b[0m\u001b[0;34m]\u001b[0m\u001b[0;34m=\u001b[0m\u001b[0mnp\u001b[0m\u001b[0;34m.\u001b[0m\u001b[0mrandom\u001b[0m\u001b[0;34m.\u001b[0m\u001b[0mnormal\u001b[0m\u001b[0;34m(\u001b[0m\u001b[0mm\u001b[0m\u001b[0;34m,\u001b[0m\u001b[0msigma\u001b[0m\u001b[0;34m)\u001b[0m\u001b[0;34m\u001b[0m\u001b[0m\n\u001b[1;32m     11\u001b[0m     \u001b[0;32mreturn\u001b[0m \u001b[0mgauss\u001b[0m\u001b[0;34m\u001b[0m\u001b[0m\n",
      "\u001b[0;32m~/anaconda3/lib/python3.6/site-packages/pandas/core/series.py\u001b[0m in \u001b[0;36m__getitem__\u001b[0;34m(self, key)\u001b[0m\n\u001b[1;32m    599\u001b[0m         \u001b[0mkey\u001b[0m \u001b[0;34m=\u001b[0m \u001b[0mcom\u001b[0m\u001b[0;34m.\u001b[0m\u001b[0m_apply_if_callable\u001b[0m\u001b[0;34m(\u001b[0m\u001b[0mkey\u001b[0m\u001b[0;34m,\u001b[0m \u001b[0mself\u001b[0m\u001b[0;34m)\u001b[0m\u001b[0;34m\u001b[0m\u001b[0m\n\u001b[1;32m    600\u001b[0m         \u001b[0;32mtry\u001b[0m\u001b[0;34m:\u001b[0m\u001b[0;34m\u001b[0m\u001b[0m\n\u001b[0;32m--> 601\u001b[0;31m             \u001b[0mresult\u001b[0m \u001b[0;34m=\u001b[0m \u001b[0mself\u001b[0m\u001b[0;34m.\u001b[0m\u001b[0mindex\u001b[0m\u001b[0;34m.\u001b[0m\u001b[0mget_value\u001b[0m\u001b[0;34m(\u001b[0m\u001b[0mself\u001b[0m\u001b[0;34m,\u001b[0m \u001b[0mkey\u001b[0m\u001b[0;34m)\u001b[0m\u001b[0;34m\u001b[0m\u001b[0m\n\u001b[0m\u001b[1;32m    602\u001b[0m \u001b[0;34m\u001b[0m\u001b[0m\n\u001b[1;32m    603\u001b[0m             \u001b[0;32mif\u001b[0m \u001b[0;32mnot\u001b[0m \u001b[0mis_scalar\u001b[0m\u001b[0;34m(\u001b[0m\u001b[0mresult\u001b[0m\u001b[0;34m)\u001b[0m\u001b[0;34m:\u001b[0m\u001b[0;34m\u001b[0m\u001b[0m\n",
      "\u001b[0;32m~/anaconda3/lib/python3.6/site-packages/pandas/core/indexes/base.py\u001b[0m in \u001b[0;36mget_value\u001b[0;34m(self, series, key)\u001b[0m\n\u001b[1;32m   2475\u001b[0m         \u001b[0;32mtry\u001b[0m\u001b[0;34m:\u001b[0m\u001b[0;34m\u001b[0m\u001b[0m\n\u001b[1;32m   2476\u001b[0m             return self._engine.get_value(s, k,\n\u001b[0;32m-> 2477\u001b[0;31m                                           tz=getattr(series.dtype, 'tz', None))\n\u001b[0m\u001b[1;32m   2478\u001b[0m         \u001b[0;32mexcept\u001b[0m \u001b[0mKeyError\u001b[0m \u001b[0;32mas\u001b[0m \u001b[0me1\u001b[0m\u001b[0;34m:\u001b[0m\u001b[0;34m\u001b[0m\u001b[0m\n\u001b[1;32m   2479\u001b[0m             \u001b[0;32mif\u001b[0m \u001b[0mlen\u001b[0m\u001b[0;34m(\u001b[0m\u001b[0mself\u001b[0m\u001b[0;34m)\u001b[0m \u001b[0;34m>\u001b[0m \u001b[0;36m0\u001b[0m \u001b[0;32mand\u001b[0m \u001b[0mself\u001b[0m\u001b[0;34m.\u001b[0m\u001b[0minferred_type\u001b[0m \u001b[0;32min\u001b[0m \u001b[0;34m[\u001b[0m\u001b[0;34m'integer'\u001b[0m\u001b[0;34m,\u001b[0m \u001b[0;34m'boolean'\u001b[0m\u001b[0;34m]\u001b[0m\u001b[0;34m:\u001b[0m\u001b[0;34m\u001b[0m\u001b[0m\n",
      "\u001b[0;32mpandas/_libs/index.pyx\u001b[0m in \u001b[0;36mpandas._libs.index.IndexEngine.get_value\u001b[0;34m()\u001b[0m\n",
      "\u001b[0;32mpandas/_libs/index.pyx\u001b[0m in \u001b[0;36mpandas._libs.index.IndexEngine.get_value\u001b[0;34m()\u001b[0m\n",
      "\u001b[0;32mpandas/_libs/index.pyx\u001b[0m in \u001b[0;36mpandas._libs.index.IndexEngine.get_loc\u001b[0;34m()\u001b[0m\n",
      "\u001b[0;32mpandas/_libs/hashtable_class_helper.pxi\u001b[0m in \u001b[0;36mpandas._libs.hashtable.Int64HashTable.get_item\u001b[0;34m()\u001b[0m\n",
      "\u001b[0;32mpandas/_libs/hashtable_class_helper.pxi\u001b[0m in \u001b[0;36mpandas._libs.hashtable.Int64HashTable.get_item\u001b[0;34m()\u001b[0m\n",
      "\u001b[0;31mKeyError\u001b[0m: 0"
     ]
    }
   ],
   "source": [
    "#gaussian smearing (10-15%)\n",
    "sigma=np.sqrt(0.1)\n",
    "N=len(val.S)\n",
    "gauss=np.zeros(N)\n",
    "\n",
    "print(np.random.normal(val.S, sigma))\n",
    "def gauss_distrib(mu, sigma):\n",
    "    for i in range(0,N):\n",
    "        m=mu[i]\n",
    "        gauss[i]=np.random.normal(m,sigma)\n",
    "    return gauss\n",
    "print(gauss_distrib(val.S, sigma))"
   ]
  },
  {
   "cell_type": "code",
   "execution_count": 7,
   "metadata": {},
   "outputs": [
    {
     "data": {
      "image/png": "[encoded data removed]",
      "text/plain": [
       "<matplotlib.figure.Figure at 0x7f55283d93c8>"
      ]
     },
     "metadata": {},
     "output_type": "display_data"
    }
   ],
   "source": [
    "fig2, ax2 = plt.subplots(figsize=(8,6))\n",
    "plt.grid()\n",
    "bins2=np.linspace(15, 17, 20)\n",
    "\n",
    "sel_data = data.loc[data.cos2>0.]\n",
    "sel_data = sel_data.loc[sel_data.cos2<0.2]\n",
    "ax2.hist(sel_data.lgE,bins = bins2, normed = False, alpha=0.5,label=\"0.-0.2\", ec='white')\n",
    "\n",
    "sel_data = data.loc[data.cos2>0.2]\n",
    "sel_data = sel_data.loc[sel_data.cos2<0.4]\n",
    "#n4, bins5, patches = ax2.hist(data.lgE,bins = 100, normed = False, label=\"Histogram\", ec='white')\n",
    "ax2.hist(sel_data.lgE,bins = bins2, normed = False, alpha=0.5,label=\"0.2-0.4\", ec='white')\n",
    "\n",
    "\n",
    "sel_data= data.loc[data.cos2>0.4]\n",
    "sel_data=sel_data.loc[sel_data.cos2<0.6]\n",
    "ax2.hist(sel_data.lgE,bins = bins2, normed = False, alpha=0.5,label=\"0.4-0.6\", ec='white')\n",
    "\n",
    "sel_data = data.loc[data.cos2>0.6]\n",
    "sel_data = sel_data.loc[sel_data.cos2<0.8]\n",
    "ax2.hist(sel_data.lgE,bins = bins2, normed = False, alpha=0.5,label=\"0.6-0.8\", ec='white')\n",
    "\n",
    "\n",
    "sel_data = data.loc[data.cos2>0.8]\n",
    "sel_data = sel_data.loc[sel_data.cos2<1.]\n",
    "ax2.hist(sel_data.lgE,bins = bins2, normed = False, alpha=0.5,label=\"0.8-1\", ec='white')\n",
    "\n",
    "ax2.set_xlabel(\"lg (E/eV)\")\n",
    "ax2.set_ylabel(\"flux\", fontsize=20)\n",
    "ax2.set_yscale('log')\n",
    "#ax2.set_xscale('log')\n",
    "ax2.legend()\n",
    "plt.show()"
   ]
  },
  {
   "cell_type": "code",
   "execution_count": null,
   "metadata": {
    "collapsed": true
   },
   "outputs": [],
   "source": [
    "fig2, ax2 = plt.subplots(figsize=(16,10))\n",
    "#plt.grid()\n",
    "bins=np.linspace(2.5, 4, 50)\n",
    "\n",
    "#sel_data = data.loc[data.cos2>0.]\n",
    "#sel_data = sel_data.loc[sel_data.cos2<0.2]\n",
    "#ax2.hist(sel_data.lgS,bins = bins, normed = False, alpha=0.5,label=\"0.-0.2\", ec='white')\n",
    "\n",
    "sel_data = data.loc[data.cos2>0.2]\n",
    "sel_data = sel_data.loc[sel_data.cos2<0.4]\n",
    "#n4, bins5, patches = ax2.hist(data.lgE,bins = 100, normed = False, label=\"Histogram\", ec='white')\n",
    "ax2.hist(sel_data.lgS,bins = bins, normed = False, alpha=0.5,label=\"0.2-0.4\", ec='white')\n",
    "\n",
    "\n",
    "sel_data= data.loc[data.cos2>0.4]\n",
    "sel_data=sel_data.loc[sel_data.cos2<0.6]\n",
    "ax2.hist(sel_data.lgS,bins = bins, normed = False, alpha=0.5,label=\"0.4-0.6\", ec='white')\n",
    "\n",
    "sel_data = data.loc[data.cos2>0.6]\n",
    "sel_data = sel_data.loc[sel_data.cos2<0.8]\n",
    "ax2.hist(sel_data.lgS,bins = bins, normed = False, alpha=0.5,label=\"0.6-0.8\", ec='white')\n",
    "\n",
    "\n",
    "sel_data = data.loc[data.cos2>0.8]\n",
    "sel_data = sel_data.loc[sel_data.cos2<1.]\n",
    "ax2.hist(sel_data.lgS,bins = bins, normed = False, alpha=0.5,label=\"0.8-1\", ec='white')\n",
    "\n",
    "ax2.set_xlabel(\"lg (E/eV)\")\n",
    "ax2.set_ylabel(\"flux\", fontsize=20)\n",
    "ax2.set_yscale('log')\n",
    "#ax2.set_xscale('log')\n",
    "ax2.legend()\n",
    "plt.show()"
   ]
  },
  {
   "cell_type": "code",
   "execution_count": null,
   "metadata": {
    "collapsed": true
   },
   "outputs": [],
   "source": [
    "def fit_powerlow(x, a, b):\n",
    "    return a*(10**(x-15))**b\n",
    "n= n[np.where(n>10)]\n",
    "\n",
    "bins2=bins[np.where(n>10)]\n",
    "from scipy.optimize import curve_fit\n",
    "\n",
    "pars, cov = curve_fit(fit_powerlow, bins2, n , p0=[1000, 1.5])\n",
    "print(pars)\n",
    "\n",
    "fig2, ax2 = plt.subplots(figsize=(8,6))\n",
    "plt.grid()\n",
    "ax2.plot(bins2, n)\n",
    "ax2.plot(bins2, fit_powerlow(bins2, *pars), lw=4, label=\"Fit_powerlow\")\n",
    "ax2.set_xlabel(\"log10(E/eV)-18\")\n",
    "ax2.set_ylabel(\"flux\", fontsize=20)\n",
    "ax2.set_yscale('log')\n",
    "ax2.legend()\n",
    "plt.show()"
   ]
  },
  {
   "cell_type": "code",
   "execution_count": null,
   "metadata": {
    "collapsed": true
   },
   "outputs": [],
   "source": [
    "def fit_Si(x, a, gamma):\n",
    "     return a*(10**(x-2.5))**(gamma)\n",
    "\n",
    "n2=n2[np.where(n2>0)]\n",
    "bins3=bins3[np.where(n2>0)]\n",
    "pars2, cov2 = curve_fit(fit_Si, bins3, n2 , p0=[100, -1.2])\n",
    "print(pars2, cov2)\n",
    "\n",
    "fig2, ax2 = plt.subplots(figsize=(8,6))\n",
    "plt.grid()\n",
    "n2, bins3, patches = ax2.hist(np.log10(S_i_ref),bins = 100, normed = False, label=\"Histogram\", ec='white') #plot the data in a histogram with 100 bins\n",
    "\n",
    "ax2.plot(bins3, fit_Si(bins3, *pars2) , lw=4, label=\"Fit_Si\")\n",
    "ax2.set_xlabel(\"X\")\n",
    "ax2.set_ylabel(\"flux\", fontsize=20)\n",
    "ax2.set_yscale('log')\n",
    "#ax2.set_xscale('log')\n",
    "ax2.legend()\n",
    "plt.show()"
   ]
  },
  {
   "cell_type": "code",
   "execution_count": null,
   "metadata": {
    "collapsed": true
   },
   "outputs": [],
   "source": [
    "fig2, ax2 = plt.subplots(figsize=(8,6))\n",
    "plt.grid()\n",
    "ax2.hist(data.cos2, bins=10)\n",
    "ax2.legend()\n",
    "plt.show()"
   ]
  },
  {
   "cell_type": "code",
   "execution_count": null,
   "metadata": {
    "collapsed": true
   },
   "outputs": [],
   "source": []
  },
  {
   "cell_type": "code",
   "execution_count": null,
   "metadata": {
    "collapsed": true
   },
   "outputs": [],
   "source": []
  },
  {
   "cell_type": "code",
   "execution_count": null,
   "metadata": {
    "collapsed": true
   },
   "outputs": [],
   "source": []
  }
 ],
 "metadata": {
  "kernelspec": {
   "display_name": "Python 3",
   "language": "python",
   "name": "python3"
  },
  "language_info": {
   "codemirror_mode": {
    "name": "ipython",
    "version": 3
   },
   "file_extension": ".py",
   "mimetype": "text/x-python",
   "name": "python",
   "nbconvert_exporter": "python",
   "pygments_lexer": "ipython3",
   "version": "3.6.3"
  }
 },
 "nbformat": 4,
 "nbformat_minor": 2
}
