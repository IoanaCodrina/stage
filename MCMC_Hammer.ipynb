{
 "cells": [
  {
   "cell_type": "code",
   "execution_count": 1,
   "metadata": {
    "collapsed": true
   },
   "outputs": [],
   "source": [
    "import numpy as np\n",
    "import scipy as sp\n",
    "import pandas as pd\n",
    "\n",
    "from scipy import optimize\n",
    "\n",
    "%matplotlib inline \n",
    "import matplotlib.pyplot as plt"
   ]
  },
  {
   "cell_type": "code",
   "execution_count": 7,
   "metadata": {
    "collapsed": true
   },
   "outputs": [],
   "source": [
    "mean_S=[114.64866107858613, 281.263665030094, 434.1710447166398, 569.9988028399946, 687.0546718639996, 780.4870062669543, 864.119024879455, 916.7825679232428, 975.9915880272431, 1022.9939908123263]\n",
    "rms=[114.74968236197647, 282.01041012696396, 434.47275315291114, 570.8325673130487, 687.4374797608367, 781.6874291625296, 864.5162056661065, 917.0785397347968, 976.4170138865792, 1024.7237580132255]\n",
    "sigma_S=[4.813950047724185, 20.509074913742488, 16.188797420809703, 30.84128185045552, 22.93831837303278, 43.304387297040904, 26.20268499031733, 23.297450379212293, 28.82022045794128, 59.515334146904]\n",
    "S_ref=[524.36037518,717.49813895,850.49419746, 715.4684653,951.54946654,893.63784202,811.12501887,896.93268679,870.97201082,1003.64425617]"
   ]
  },
  {
   "cell_type": "code",
   "execution_count": 3,
   "metadata": {
    "collapsed": true
   },
   "outputs": [],
   "source": [
    "def rndm(a, b, g, size=1):\n",
    "    \"\"\"Power-law gen for pdf(x)\\propto x^{g-1} for a<=x<=b\"\"\"\n",
    "    r = np.random.random(size=size)\n",
    "    ag, bg = a**g, b**g\n",
    "    return (ag + (bg - ag)*r)**(1./g)\n",
    "\n",
    "N= 10000\n",
    "\n",
    "\n",
    "\n",
    "def S_ref(A,B,E):\n",
    "    return (E/A)**(1/B)\n",
    "\n",
    "\n",
    "def S_i(alpha, beta, delta, cos, f):\n",
    "    cos_ref=np.cos(38*np.pi/180.)**2\n",
    "    x = cos-cos_ref\n",
    "    return f*(delta+beta*x+alpha*x**2)\n",
    "\n",
    "def S_i_fit(cos, alpha, beta, f):\n",
    "    cos_ref=np.cos(38*np.pi/180.)**2\n",
    "    x = cos-cos_ref\n",
    "    return f*(alpha*x**2+beta*x+1)\n",
    "\n",
    "\n",
    "def get_random_vars(N):\n",
    "    E0 = 10**15\n",
    "    E1 = 10**18\n",
    "    gamma = -2.5\n",
    "\n",
    "    A = 10**12\n",
    "    B = 1.2\n",
    "    b=0.919\n",
    "    a=-1.13\n",
    "    c=1\n",
    "\n",
    "    E = rndm(E0, E1, gamma, N) \n",
    "    \n",
    "    S_i_ref=S_ref(A,B,E)\n",
    "    cos_2 = np.random.rand(N)\n",
    "    S=S_i(a,b,c,cos_2,S_i_ref)\n",
    "    data=pd.DataFrame()\n",
    "    data['E'] = E\n",
    "    data['S_ref'] = S_i_ref\n",
    "    data['cos2'] = cos_2\n",
    "    data['S'] = S\n",
    "    data['th'] = np.arccos(np.sqrt(data.cos2))\n",
    "    data['lgE'] = np.log10(data.E)\n",
    "    data['lgS'] = np.log10(data.S)\n",
    "    data['lgS_ref'] = np.log10(data.S_ref)\n",
    "    data = data.sort_values(['lgS'])\n",
    "    data['I'] = 0\n",
    "    bins = np.linspace(0, 1, 11, endpoint = True )\n",
    "    ind = np.digitize(data['cos2'],bins)\n",
    "    groups = data.groupby(ind)\n",
    "                      \n",
    "    for name, group in groups:\n",
    "        values = group['lgS'].apply(lambda x: group[group['lgS']>x].count())\n",
    "        data.loc[group.I.index.tolist(), 'I']= values.I \n",
    "        \n",
    "    data['sqrt_I']=np.sqrt(data.I)\n",
    "    return data\n",
    "b=0.919\n",
    "a=-1.13\n",
    "c=1"
   ]
  },
  {
   "cell_type": "code",
   "execution_count": 4,
   "metadata": {
    "collapsed": true
   },
   "outputs": [],
   "source": [
    "def lnlike(a,b,c, S_ref,lnf, x, y, yerr):\n",
    "    model = S_ref*(a * x**2 + b*x+c)\n",
    "    inv_sigma2 = 1.0/(yerr**2 + model**2*np.exp(2*lnf))\n",
    "    return -0.5*(np.sum((y-model)**2*inv_sigma2 - np.log(inv_sigma2)))"
   ]
  },
  {
   "cell_type": "code",
   "execution_count": 5,
   "metadata": {},
   "outputs": [],
   "source": [
    "#from simul_functions import S_i"
   ]
  },
  {
   "cell_type": "code",
   "execution_count": 24,
   "metadata": {},
   "outputs": [
    {
     "name": "stdout",
     "output_type": "stream",
     "text": [
      "<class 'int'>\n"
     ]
    }
   ],
   "source": [
    "x=np.linspace(0.05,0.95,10, endpoint = True)\n",
    "y=S_i_fit(x,a,b,S_ref)\n",
    "print(type(c))"
   ]
  },
  {
   "cell_type": "code",
   "execution_count": 28,
   "metadata": {},
   "outputs": [
    {
     "name": "stdout",
     "output_type": "stream",
     "text": [
      "<class 'numpy.ndarray'>\n"
     ]
    },
    {
     "ename": "ValueError",
     "evalue": "setting an array element with a sequence.",
     "output_type": "error",
     "traceback": [
      "\u001b[0;31m---------------------------------------------------------------------------\u001b[0m",
      "\u001b[0;31mValueError\u001b[0m                                Traceback (most recent call last)",
      "\u001b[0;32m<ipython-input-28-83705f464fe2>\u001b[0m in \u001b[0;36m<module>\u001b[0;34m()\u001b[0m\n\u001b[1;32m      3\u001b[0m \u001b[0mx0\u001b[0m\u001b[0;34m=\u001b[0m\u001b[0;34m[\u001b[0m\u001b[0ma\u001b[0m\u001b[0;34m,\u001b[0m \u001b[0mb\u001b[0m\u001b[0;34m,\u001b[0m \u001b[0mc\u001b[0m\u001b[0;34m,\u001b[0m \u001b[0mnp\u001b[0m\u001b[0;34m.\u001b[0m\u001b[0mlog\u001b[0m\u001b[0;34m(\u001b[0m\u001b[0mnp\u001b[0m\u001b[0;34m.\u001b[0m\u001b[0masarray\u001b[0m\u001b[0;34m(\u001b[0m\u001b[0mmean_S\u001b[0m\u001b[0;34m)\u001b[0m\u001b[0;34m)\u001b[0m \u001b[0;34m]\u001b[0m\u001b[0;34m\u001b[0m\u001b[0m\n\u001b[1;32m      4\u001b[0m \u001b[0mprint\u001b[0m\u001b[0;34m(\u001b[0m\u001b[0mtype\u001b[0m\u001b[0;34m(\u001b[0m\u001b[0my\u001b[0m\u001b[0;34m)\u001b[0m\u001b[0;34m)\u001b[0m\u001b[0;34m\u001b[0m\u001b[0m\n\u001b[0;32m----> 5\u001b[0;31m \u001b[0mresult\u001b[0m \u001b[0;34m=\u001b[0m \u001b[0mop\u001b[0m\u001b[0;34m.\u001b[0m\u001b[0mminimize\u001b[0m\u001b[0;34m(\u001b[0m\u001b[0mnll\u001b[0m\u001b[0;34m,\u001b[0m \u001b[0mnp\u001b[0m\u001b[0;34m.\u001b[0m\u001b[0masarray\u001b[0m\u001b[0;34m(\u001b[0m\u001b[0mx0\u001b[0m\u001b[0;34m)\u001b[0m\u001b[0;34m,\u001b[0m \u001b[0margs\u001b[0m\u001b[0;34m=\u001b[0m\u001b[0;34m(\u001b[0m\u001b[0mx\u001b[0m\u001b[0;34m,\u001b[0m \u001b[0my\u001b[0m\u001b[0;34m,\u001b[0m \u001b[0mnp\u001b[0m\u001b[0;34m.\u001b[0m\u001b[0masarray\u001b[0m\u001b[0;34m(\u001b[0m\u001b[0msigma_S\u001b[0m\u001b[0;34m)\u001b[0m\u001b[0;34m)\u001b[0m\u001b[0;34m)\u001b[0m\u001b[0;34m\u001b[0m\u001b[0m\n\u001b[0m\u001b[1;32m      6\u001b[0m \u001b[0mm_ml\u001b[0m\u001b[0;34m,\u001b[0m \u001b[0mb_ml\u001b[0m\u001b[0;34m,\u001b[0m \u001b[0mlnf_ml\u001b[0m \u001b[0;34m=\u001b[0m \u001b[0mresult\u001b[0m\u001b[0;34m[\u001b[0m\u001b[0;34m\"x\"\u001b[0m\u001b[0;34m]\u001b[0m\u001b[0;34m\u001b[0m\u001b[0m\n",
      "\u001b[0;32m~/anaconda3/lib/python3.6/site-packages/numpy/core/numeric.py\u001b[0m in \u001b[0;36masarray\u001b[0;34m(a, dtype, order)\u001b[0m\n\u001b[1;32m    490\u001b[0m \u001b[0;34m\u001b[0m\u001b[0m\n\u001b[1;32m    491\u001b[0m     \"\"\"\n\u001b[0;32m--> 492\u001b[0;31m     \u001b[0;32mreturn\u001b[0m \u001b[0marray\u001b[0m\u001b[0;34m(\u001b[0m\u001b[0ma\u001b[0m\u001b[0;34m,\u001b[0m \u001b[0mdtype\u001b[0m\u001b[0;34m,\u001b[0m \u001b[0mcopy\u001b[0m\u001b[0;34m=\u001b[0m\u001b[0;32mFalse\u001b[0m\u001b[0;34m,\u001b[0m \u001b[0morder\u001b[0m\u001b[0;34m=\u001b[0m\u001b[0morder\u001b[0m\u001b[0;34m)\u001b[0m\u001b[0;34m\u001b[0m\u001b[0m\n\u001b[0m\u001b[1;32m    493\u001b[0m \u001b[0;34m\u001b[0m\u001b[0m\n\u001b[1;32m    494\u001b[0m \u001b[0;34m\u001b[0m\u001b[0m\n",
      "\u001b[0;31mValueError\u001b[0m: setting an array element with a sequence."
     ]
    }
   ],
   "source": [
    "import scipy.optimize as op\n",
    "nll = lambda *args: -lnlike(*args)\n",
    "x0=[a, b, c, np.log(np.asarray(mean_S)) ]\n",
    "print(type(y))\n",
    "result = op.minimize(nll, np.asarray(x0), args=(x, y, np.asarray(sigma_S)))\n",
    "m_ml, b_ml, lnf_ml = result[\"x\"]"
   ]
  },
  {
   "cell_type": "code",
   "execution_count": null,
   "metadata": {
    "collapsed": true
   },
   "outputs": [],
   "source": []
  }
 ],
 "metadata": {
  "kernelspec": {
   "display_name": "Python 3",
   "language": "python",
   "name": "python3"
  },
  "language_info": {
   "codemirror_mode": {
    "name": "ipython",
    "version": 3
   },
   "file_extension": ".py",
   "mimetype": "text/x-python",
   "name": "python",
   "nbconvert_exporter": "python",
   "pygments_lexer": "ipython3",
   "version": "3.6.3"
  }
 },
 "nbformat": 4,
 "nbformat_minor": 2
}
