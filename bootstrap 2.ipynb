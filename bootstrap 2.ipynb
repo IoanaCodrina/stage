{
 "cells": [
  {
   "cell_type": "code",
   "execution_count": null,
   "metadata": {
    "collapsed": true
   },
   "outputs": [],
   "source": [
    "import numpy as np\n",
    "import scipy as sp\n",
    "import pandas as pd\n",
    "\n",
    "from scipy import optimize\n",
    "\n",
    "%matplotlib inline \n",
    "import matplotlib.pyplot as plt"
   ]
  },
  {
   "cell_type": "code",
   "execution_count": null,
   "metadata": {
    "collapsed": true
   },
   "outputs": [],
   "source": [
    "from simul_functions import get_random_vars,S_i,S_ref,rndm, S_i_fit, intensity"
   ]
  },
  {
   "cell_type": "code",
   "execution_count": null,
   "metadata": {
    "scrolled": true
   },
   "outputs": [],
   "source": [
    "#true_values, for now I just took approx the value of a point on the graph \n",
    "#in the other notebook\n",
    "\n",
    "mydata=get_random_vars(1000)\n",
    "\n",
    "S125_T=mydata.S\n",
    "theta_T= np.arccos(np.sqrt(mydata.cos2)) \n",
    "\n",
    "sigma_S=np.abs(0.1*S125_T)\n",
    "sigma_theta=1.5"
   ]
  },
  {
   "cell_type": "code",
   "execution_count": null,
   "metadata": {},
   "outputs": [],
   "source": [
    "#generating N data sets\n",
    "fig2, ax2 = plt.subplots(figsize=(10,6))\n",
    "plt.grid()\n",
    "N=100\n",
    "ref_intensity =50\n",
    "S125=[]\n",
    "S_list=[]\n",
    "S_2_list=[]\n",
    "#S125=np.random.normal(S125_T[80], sigma_S[80],N)\n",
    "#plt.hist(S125, bins=50, normed=True )\n",
    "#plt.show()\n",
    "ref_intensity=50\n",
    "\n",
    "for j in range(0,N):\n",
    "    \n",
    "    for i,s  in enumerate(S125_T):\n",
    "        S125.append(np.random.normal(s,sigma_S[i]))\n",
    "        theta=np.random.normal(theta_T[i],sigma_theta)\n",
    "        \n",
    "    I=intensity(mydata)\n",
    "    val = mydata.loc[I == ref_intensity]\n",
    "    print(val)\n",
    "    S_list.append(val.S)\n",
    "    S_2_list.append(val.S**2)\n",
    "    mydata.drop(mydata.index,  inplace=True)\n",
    "    \n",
    "    bins2=np.linspace(0.05,0.95,10, endpoint = True)\n",
    "    att_fit2, cov2 =sp.optimize.curve_fit(S_i_fit, bins2, val.S)\n",
    "    x=np.linspace(0,1, 1000)\n",
    "    ax2.plot(bins2, val.S, lw=0, marker='o')\n",
    "    ax2.plot(x, S_i_fit(x,att_fit2[0],att_fit2[1],att_fit2[2]))\n",
    "    \n",
    "S_array=np.asarray(S_list)\n",
    "S_2=np.asarray(S_2_list)\n",
    "S_array2=S_array.transpose()\n",
    "S_2T=S_2.transpose()\n",
    "\n",
    "\n",
    "plt.show()\n",
    "print(type(mydata.index))"
   ]
  },
  {
   "cell_type": "code",
   "execution_count": null,
   "metadata": {},
   "outputs": [],
   "source": [
    "mean_S=[]\n",
    "delta_S=[]\n",
    "for i in range(0,len(S_array2)):\n",
    "    mean_S.append(np.mean(S_array2[i]))\n",
    "    rms.append(np.sqrt(np.sum(S_2T[i])/len(S_2T[i]))) \n",
    "    delta_S.append(np.sqrt(rms[i]**2-mean_S[i]**2))"
   ]
  },
  {
   "cell_type": "code",
   "execution_count": null,
   "metadata": {},
   "outputs": [],
   "source": [
    "fig2, ax2 = plt.subplots(figsize=(10,6))\n",
    "plt.grid()\n",
    "sigma_S=np.asarray(delta_S)\n",
    "bins2=np.linspace(0.05,0.95,10, endpoint = True)\n",
    "att_fit2, cov2 =sp.optimize.curve_fit(S_i_fit, bins2, mean_S)\n",
    "x=np.linspace(0,1, 1000)\n",
    "ax2.plot(bins2, mean_S, lw=0, marker='o')\n",
    "ax2.plot(x, S_i_fit(x,att_fit2[0],att_fit2[1],att_fit2[2]))\n",
    "plt.errorbar(bins2, mean_S, xerr=None, yerr=sigma_S, fmt='o')\n",
    "\n",
    "plt.show()"
   ]
  },
  {
   "cell_type": "code",
   "execution_count": null,
   "metadata": {
    "collapsed": true
   },
   "outputs": [],
   "source": []
  }
 ],
 "metadata": {
  "kernelspec": {
   "display_name": "Python 3",
   "language": "python",
   "name": "python3"
  },
  "language_info": {
   "codemirror_mode": {
    "name": "ipython",
    "version": 3
   },
   "file_extension": ".py",
   "mimetype": "text/x-python",
   "name": "python",
   "nbconvert_exporter": "python",
   "pygments_lexer": "ipython3",
   "version": "3.6.3"
  }
 },
 "nbformat": 4,
 "nbformat_minor": 2
}
