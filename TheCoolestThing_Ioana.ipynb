{
 "cells": [
  {
   "cell_type": "code",
   "execution_count": null,
   "metadata": {
    "collapsed": true
   },
   "outputs": [],
   "source": [
    "import numpy as np\n",
    "import scipy as sp\n",
    "import pandas as pd\n",
    "\n",
    "%matplotlib inline \n",
    "import matplotlib.pyplot as plt"
   ]
  },
  {
   "cell_type": "code",
   "execution_count": null,
   "metadata": {
    "collapsed": false
   },
   "outputs": [],
   "source": [
    "np.random.seed(10)\n",
    "\n",
    "def rndm(a, b, g, size=1):\n",
    "    \"\"\"Power-law gen for pdf(x)\\propto x^{g-1} for a<=x<=b\"\"\"\n",
    "    r = np.random.random(size=size)\n",
    "    ag, bg = a**g, b**g\n",
    "    return (ag + (bg - ag)*r)**(1./g)\n",
    "\n",
    "E0 = 10**15\n",
    "E1 = 10**18\n",
    "gamma = -2.5\n",
    "N= 10000\n",
    "\n",
    "E = rndm(E0, E1, gamma, N) \n",
    "A = 10**12\n",
    "B = 1.2\n",
    "\n",
    "def S_ref(A,B,E):\n",
    "    return (E/A)**(1/B)\n",
    "\n",
    "S_i_ref=S_ref(A,B,E)\n",
    "cos_2 = np.random.rand(N)\n",
    "\n",
    "def S_i(alpha, beta, delta, cos, f):\n",
    "    cos_ref=np.cos(38.*np.pi/180.)**2\n",
    "    x = cos-cos_ref\n",
    "    return f*(1+beta*x+delta*x**2)\n",
    "\n",
    "a=0.919\n",
    "b=-1.13\n",
    "c=1\n",
    "\n",
    "\n",
    "S=S_i(c,a,b,cos_2,S_i_ref)\n",
    "data = pd.DataFrame()\n",
    "data['E'] = E\n",
    "data['S_ref'] = S_i_ref\n",
    "data['cos2'] = cos_2\n",
    "data['S'] = S\n",
    "data['th'] = np.arccos(np.sqrt(data.cos2))\n",
    "data['lgE'] = np.log10(data.E)\n",
    "data['lgS'] = np.log10(data.S)\n",
    "data['lgS_ref'] = np.log10(data.S_ref)\n",
    "\n",
    "#print(data)"
   ]
  },
  {
   "cell_type": "code",
   "execution_count": null,
   "metadata": {
    "collapsed": false
   },
   "outputs": [],
   "source": [
    "data = data.sort_values(['lgS'])\n",
    "data['I'] = 0\n",
    "bins = np.linspace(0, 1, 11, endpoint = True )\n",
    "ind = np.digitize(data['cos2'],bins)\n",
    "groups = data.groupby(ind)\n",
    "                      \n",
    "\n",
    "for name, group in groups:\n",
    "    values = group['lgS'].apply(lambda x: group[group['lgS']>x].count())\n",
    "    data.loc[group.I.index.tolist(), 'I']= values.I \n",
    "    #print(values)\n",
    "   \n",
    "#print(data)"
   ]
  },
  {
   "cell_type": "code",
   "execution_count": null,
   "metadata": {
    "collapsed": false
   },
   "outputs": [],
   "source": [
    "ref_intensity = 600\n",
    "#print(data)\n",
    "val = data.loc[data.I == ref_intensity]\n",
    "#print(val)\n",
    "\n",
    "fig2, ax2 = plt.subplots(figsize=(10,6))\n",
    "plt.grid()\n",
    "bins=np.linspace(0.0, 1, val.S.size)\n",
    "\n",
    "\n",
    "ax2.plot(val.cos2, val.S, lw=0, marker='o')\n",
    "ax2.plot(val.cos2, S_i(c,a,b, val.cos2, 350), 'r--')\n",
    "cos_ref=np.cos(38.*np.pi/180.)**2\n",
    "\n",
    "print(cos_ref)\n",
    "plt.show()"
   ]
  },
  {
   "cell_type": "code",
   "execution_count": null,
   "metadata": {
    "collapsed": false
   },
   "outputs": [],
   "source": [
    "np.cos(0)"
   ]
  },
  {
   "cell_type": "raw",
   "metadata": {},
   "source": []
  }
 ],
 "metadata": {
  "kernelspec": {
   "display_name": "Python 3",
   "language": "python",
   "name": "python3"
  },
  "language_info": {
   "codemirror_mode": {
    "name": "ipython",
    "version": 3
   },
   "file_extension": ".py",
   "mimetype": "text/x-python",
   "name": "python",
   "nbconvert_exporter": "python",
   "pygments_lexer": "ipython3",
   "version": "3.5.4"
  }
 },
 "nbformat": 4,
 "nbformat_minor": 0
}
