{
 "cells": [
  {
   "cell_type": "markdown",
   "metadata": {},
   "source": [
    "# A first look at data\n",
    "\n",
    "date: 12/04/2018\n",
    "\n",
    "Example code for reading and checking data\n"
   ]
  },
  {
   "cell_type": "code",
   "execution_count": null,
   "metadata": {
    "collapsed": true
   },
   "outputs": [],
   "source": [
    "import pandas as pd\n",
    "import dask.dataframe as dd\n",
    "import glob as glob\n",
    "import numpy as np\n",
    "from scipy.stats import kde\n",
    "\n",
    "import matplotlib.pyplot as plt\n",
    "%matplotlib inline \n",
    "from matplotlib.colors import LogNorm\n",
    "plt.rc('font', size=16)\n",
    "plt.rcParams['figure.figsize'] = (12.0, 10.0)    # resize plots"
   ]
  },
  {
   "cell_type": "code",
   "execution_count": null,
   "metadata": {
    "collapsed": false
   },
   "outputs": [],
   "source": [
    "filename = '/data/IceCube/2015/output_126836_IC86.2015.hdf'\n",
    "dataGen = pd.read_hdf(filename, key='Laputop', columns=['x'])\n",
    "dataGen.drop(dataGen.columns.difference(['x']), 1, inplace=True)\n",
    "print(dataGen)"
   ]
  },
  {
   "cell_type": "code",
   "execution_count": null,
   "metadata": {
    "collapsed": true
   },
   "outputs": [],
   "source": [
    "def merge_and_select_data(filenames, output, number_of_files=10000):\n",
    "    store =pd.HDFStore('/data/IceCube/merged2015.h5',complib='blosc')\n",
    "    for i, file in enumerate(filenames):\n",
    "        print(i, file)\n",
    "        s = pd.HDFStore(file)\n",
    "        dataGen = s.select('Laputop')\n",
    "        dataGen.drop(dataGen.columns.difference(['Run', 'Event','x','y','z','zenith','azimuth','time']), 1, inplace=True)\n",
    "        dataRec = s.select('LaputopParams')\n",
    "        dataRec.drop(dataRec.columns.difference(['s125','beta','chi2','ndf']), 1, inplace=True)\n",
    "        dataCuts = s.select('IT73AnalysisIceTopQualityCuts')\n",
    "        dataCuts.drop(['Run', 'Event','SubEvent','SubEventStream'], 1, inplace=True)\n",
    "        dataGen = dataGen.dropna(axis=1, how='all')\n",
    "        dataRec = dataRec.dropna(axis=1, how='all')\n",
    "        data = pd.concat([dataGen, dataRec, dataCuts], axis=1, join_axes=[dataGen.index])\n",
    "        data = data.query('exists!=0 & IceTopMaxSignalInside!=0 & IceTop_reco_succeeded!=0'\n",
    "                         ' & IceTop_StandardFilter!=0 & IceTopMaxSignalInside !=0 '\n",
    "                         ' & Laputop_FractionContainment!=0 & BetaCutPassed!=0 &s125>1')\n",
    "        data.drop(data.columns.difference(['Run','Event','x','y','z','zenith','azimuth',\n",
    "                                          's125','beta','chi2','ndf']), axis=1,inplace=True)\n",
    "    \n",
    "        store.append(key ='data', value=data,  format='t',chunksize=200000)\n",
    "        s.close()\n",
    "        if i>number_of_files:\n",
    "            break\n",
    "\n",
    "    return store"
   ]
  },
  {
   "cell_type": "code",
   "execution_count": null,
   "metadata": {
    "collapsed": false,
    "scrolled": true
   },
   "outputs": [],
   "source": [
    "filenames = glob.glob('/data/IceCube/2015/*')\n",
    "\n",
    "number_of_files = 10000\n",
    "store = merge_and_select_data(filenames, '/data/IceCube/merged2015.h5', number_of_files )        \n",
    "dataAll = pd.DataFrame() \n",
    "dataAll = store.select('data')\n",
    "print(dataAll.count())\n",
    "store.close()    \n",
    "\n",
    "\n"
   ]
  },
  {
   "cell_type": "code",
   "execution_count": null,
   "metadata": {
    "collapsed": false
   },
   "outputs": [],
   "source": [
    "#print(dataCuts.head())\n",
    "#print(dataGen.head())\n",
    "#print(dataRec.head())\n"
   ]
  },
  {
   "cell_type": "code",
   "execution_count": null,
   "metadata": {
    "collapsed": false
   },
   "outputs": [],
   "source": [
    "hist = plt.hist(np.log10(dataAll.s125), bins=150)\n",
    "#plt.hist(np.log10(df.s125), 'ro')"
   ]
  },
  {
   "cell_type": "code",
   "execution_count": null,
   "metadata": {
    "collapsed": false
   },
   "outputs": [],
   "source": []
  }
 ],
 "metadata": {
  "kernelspec": {
   "display_name": "Python 3",
   "language": "python",
   "name": "python3"
  },
  "language_info": {
   "codemirror_mode": {
    "name": "ipython",
    "version": 3
   },
   "file_extension": ".py",
   "mimetype": "text/x-python",
   "name": "python",
   "nbconvert_exporter": "python",
   "pygments_lexer": "ipython3",
   "version": "3.5.4"
  }
 },
 "nbformat": 4,
 "nbformat_minor": 0
}
