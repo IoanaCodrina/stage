{
 "cells": [
  {
   "cell_type": "code",
   "execution_count": null,
   "metadata": {
    "collapsed": false
   },
   "outputs": [],
   "source": [
    "import numpy as np\n",
    "import scipy as sp\n",
    "import pandas as pd\n",
    "\n",
    "from scipy import optimize\n",
    "\n",
    "%matplotlib inline \n",
    "import matplotlib.pyplot as plt\n",
    "\n",
    "from simul_functions import generate_toy_data, get_bootstrap_data, set_intensity, get_data_to_fit\n",
    "from simul_functions import get_attenuation_parameters\n"
   ]
  },
  {
   "cell_type": "code",
   "execution_count": null,
   "metadata": {
    "collapsed": false
   },
   "outputs": [],
   "source": [
    "# input parameters for the simualtions\n",
    "minE = 10**15 #eV\n",
    "maxE = 10**18 #eV\n",
    "gamma = -2.5 # slope of the spectrum\n",
    "\n",
    "#relation between energy and s38\n",
    "A = 10**12\n",
    "B = 1.2\n",
    "\n",
    "#attenuation true numbers\n",
    "alpha = 0.919\n",
    "beta = -1.13\n",
    "\n",
    "#number of events to generate\n",
    "events = 10000\n",
    "#number of bins for the zenith \n",
    "nr_of_bins = 8\n",
    "\n",
    "data = generate_toy_data(events, minE, maxE, gamma, A, B, alpha, beta)\n",
    "\n",
    "print(data)"
   ]
  },
  {
   "cell_type": "code",
   "execution_count": null,
   "metadata": {
    "collapsed": false
   },
   "outputs": [],
   "source": [
    "#### fit the attenuation curve\n",
    "data = set_intensity(data, nr_of_bins)\n",
    "print(data)        \n",
    "    \n",
    "### input value the reference intesity\n",
    "intensity = 100\n",
    "s125_fit, bins = get_data_to_fit(data, intensity, nr_of_bins-1)\n",
    "\n",
    "values, cov = get_attenuation_parameters(s125_fit, bins, performMCMC = False )\n",
    "\n",
    "print(values)\n"
   ]
  },
  {
   "cell_type": "code",
   "execution_count": null,
   "metadata": {
    "collapsed": false
   },
   "outputs": [],
   "source": [
    "### number of boostrap samples as input\n",
    "samples = 2\n",
    "from simul_functions import get_s125\n",
    "\n",
    "fig2, ax2 = plt.subplots(figsize=(10,6))\n",
    "plt.grid()\n",
    "    \n",
    "for j in range(0, samples):\n",
    "    new_data = get_bootstrap_data(data)\n",
    "    new_data=set_intensity(new_data, nr_of_bins)\n",
    "    s125_fit, bins = get_data_to_fit(new_data, intensity, nr_of_bins-1)\n",
    "    vals, cov_bt = get_attenuation_parameters(s125_fit, bins, performMCMC = False )\n",
    "    ax2.plot(bins, s125_fit, lw=0, marker='o')\n",
    "    ax2.plot(bins, get_s125(bins,vals[0], vals[1], vals[2]))\n",
    "    print(values)"
   ]
  },
  {
   "cell_type": "markdown",
   "metadata": {},
   "source": [
    "Things to do:\n",
    "1. From the bootstrap get all the values and plot them in an histogram and one vs each other (in one canvas)\n",
    "2. Give final results: values(from original data) +- rms(vals)\n",
    "3. Implement MCMC fit in the get_attenuation_parameters function\n",
    "4. Compare results with 2.\n",
    "5. See/write to Ioana/Zig"
   ]
  },
  {
   "cell_type": "code",
   "execution_count": null,
   "metadata": {
    "collapsed": false
   },
   "outputs": [],
   "source": [
    "fig2, ax2 = plt.subplots(figsize=(10,6))\n",
    "plt.grid()\n",
    "ax2.plot(bins, s125_fit, lw=0, marker='o')\n",
    "from simul_functions import get_s125\n",
    "ax2.plot(bins, get_s125(bins,values[0], values[1], values[2]))"
   ]
  }
 ],
 "metadata": {
  "kernelspec": {
   "display_name": "Python 3",
   "language": "python",
   "name": "python3"
  },
  "language_info": {
   "codemirror_mode": {
    "name": "ipython",
    "version": 3
   },
   "file_extension": ".py",
   "mimetype": "text/x-python",
   "name": "python",
   "nbconvert_exporter": "python",
   "pygments_lexer": "ipython3",
   "version": "3.5.4"
  }
 },
 "nbformat": 4,
 "nbformat_minor": 0
}
